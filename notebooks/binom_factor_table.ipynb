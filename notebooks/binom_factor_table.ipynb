{
 "cells": [
  {
   "cell_type": "code",
   "execution_count": 1,
   "metadata": {},
   "outputs": [],
   "source": [
    "from jax.scipy.special import betaln, gammainc, gammaln\n",
    "import numpy as np\n",
    "from sympy import *"
   ]
  },
  {
   "cell_type": "markdown",
   "metadata": {},
   "source": [
    "## Table lookup for \"binom factor\"\n",
    "\n",
    "The function called \"binom factor\" is one of those with a variable-sized loop, \n",
    "which is tricky to vectorize.  Its definition is\n",
    "$$\n",
    "B(i,j,a,b,s) = \\sum_{n=s-i}^j \\binom{i}{s-n} \\binom{j}{n} a^{i-(s-n)} b^{j-n}\n",
    "$$\n",
    "\n",
    "Its arguments are three integers $(i,j,s)$ and two floats.  It can't be a lookup table because of the floats, and it can't be a simple table of functions because JAX would not be impressed.\n",
    "\n",
    "But... For a given $i,j,s$ we know it will be a polynomial in $(a,b)$:\n",
    "$$\n",
    "B(i,j,a,b,s) = \\sum_{p=1}^{max} \\sum_{q=1}^{max} w^{i,j,s}_{p,q} a^p b^q\n",
    "$$\n",
    "\n",
    "This notebook computes those weights.  If max=8, that is a 128KB array so might need to be sparsely stored."
   ]
  },
  {
   "cell_type": "code",
   "execution_count": 2,
   "metadata": {},
   "outputs": [
    {
     "name": "stdout",
     "output_type": "stream",
     "text": [
      "kilobytes=12.20703125\n"
     ]
    }
   ],
   "source": [
    "LMAX = 8\n",
    "kilobytes = LMAX ** 5 * 4 / 1024\n",
    "print(f\"{kilobytes=}\")"
   ]
  },
  {
   "cell_type": "markdown",
   "metadata": {},
   "source": [
    "Let's now compute the coefficients W.  First, we just define the functions, then pass them through sympy."
   ]
  },
  {
   "cell_type": "code",
   "execution_count": 3,
   "metadata": {},
   "outputs": [
    {
     "name": "stderr",
     "output_type": "stream",
     "text": [
      "WARNING:absl:No GPU/TPU found, falling back to CPU. (Set TF_CPP_MIN_LOG_LEVEL=0 and rerun for more info.)\n"
     ]
    },
    {
     "name": "stdout",
     "output_type": "stream",
     "text": [
      "(0, 0, 0) Poly(1, a, b, domain='ZZ')\n",
      "(0, 0, 2) Poly(0, a, b, domain='ZZ')\n",
      "(0, 0, 4) Poly(0, a, b, domain='ZZ')\n",
      "(0, 0, 6) Poly(0, a, b, domain='ZZ')\n",
      "(0, 2, 0) Poly(b**2, a, b, domain='ZZ')\n",
      "(0, 2, 2) Poly(1, a, b, domain='ZZ')\n",
      "(0, 2, 4) Poly(0, a, b, domain='ZZ')\n",
      "(0, 2, 6) Poly(0, a, b, domain='ZZ')\n",
      "(0, 4, 0) Poly(b**4, a, b, domain='ZZ')\n",
      "(0, 4, 2) Poly(6*b**2, a, b, domain='ZZ')\n",
      "(0, 4, 4) Poly(1, a, b, domain='ZZ')\n",
      "(0, 4, 6) Poly(0, a, b, domain='ZZ')\n",
      "(0, 6, 0) Poly(b**6, a, b, domain='ZZ')\n",
      "(0, 6, 2) Poly(15*b**4, a, b, domain='ZZ')\n",
      "(0, 6, 4) Poly(15*b**2, a, b, domain='ZZ')\n",
      "(0, 6, 6) Poly(1, a, b, domain='ZZ')\n",
      "(3, 0, 0) Poly(a**3, a, b, domain='ZZ')\n",
      "(3, 0, 2) Poly(3*a, a, b, domain='ZZ')\n",
      "(3, 0, 4) Poly(0, a, b, domain='ZZ')\n",
      "(3, 0, 6) Poly(0, a, b, domain='ZZ')\n",
      "(3, 2, 0) Poly(a**3*b**2, a, b, domain='ZZ')\n",
      "(3, 2, 2) Poly(a**3 + 6*a**2*b + 3*a*b**2, a, b, domain='ZZ')\n",
      "(3, 2, 4) Poly(3*a + 2*b, a, b, domain='ZZ')\n",
      "(3, 2, 6) Poly(0, a, b, domain='ZZ')\n",
      "(3, 4, 0) Poly(a**3*b**4, a, b, domain='ZZ')\n",
      "(3, 4, 2) Poly(6*a**3*b**2 + 12*a**2*b**3 + 3*a*b**4, a, b, domain='ZZ')\n",
      "(3, 4, 4) Poly(a**3 + 12*a**2*b + 18*a*b**2 + 4*b**3, a, b, domain='ZZ')\n",
      "(3, 4, 6) Poly(3*a + 4*b, a, b, domain='ZZ')\n",
      "(3, 6, 0) Poly(a**3*b**6, a, b, domain='ZZ')\n",
      "(3, 6, 2) Poly(15*a**3*b**4 + 18*a**2*b**5 + 3*a*b**6, a, b, domain='ZZ')\n",
      "(3, 6, 4) Poly(15*a**3*b**2 + 60*a**2*b**3 + 45*a*b**4 + 6*b**5, a, b, domain='ZZ')\n",
      "(3, 6, 6) Poly(a**3 + 18*a**2*b + 45*a*b**2 + 20*b**3, a, b, domain='ZZ')\n",
      "(6, 0, 0) Poly(a**6, a, b, domain='ZZ')\n",
      "(6, 0, 2) Poly(15*a**4, a, b, domain='ZZ')\n",
      "(6, 0, 4) Poly(15*a**2, a, b, domain='ZZ')\n",
      "(6, 0, 6) Poly(1, a, b, domain='ZZ')\n",
      "(6, 2, 0) Poly(a**6*b**2, a, b, domain='ZZ')\n",
      "(6, 2, 2) Poly(a**6 + 12*a**5*b + 15*a**4*b**2, a, b, domain='ZZ')\n",
      "(6, 2, 4) Poly(15*a**4 + 40*a**3*b + 15*a**2*b**2, a, b, domain='ZZ')\n",
      "(6, 2, 6) Poly(15*a**2 + 12*a*b + b**2, a, b, domain='ZZ')\n",
      "(6, 4, 0) Poly(a**6*b**4, a, b, domain='ZZ')\n",
      "(6, 4, 2) Poly(6*a**6*b**2 + 24*a**5*b**3 + 15*a**4*b**4, a, b, domain='ZZ')\n",
      "(6, 4, 4) Poly(a**6 + 24*a**5*b + 90*a**4*b**2 + 80*a**3*b**3 + 15*a**2*b**4, a, b, domain='ZZ')\n",
      "(6, 4, 6) Poly(15*a**4 + 80*a**3*b + 90*a**2*b**2 + 24*a*b**3 + b**4, a, b, domain='ZZ')\n",
      "(6, 6, 0) Poly(a**6*b**6, a, b, domain='ZZ')\n",
      "(6, 6, 2) Poly(15*a**6*b**4 + 36*a**5*b**5 + 15*a**4*b**6, a, b, domain='ZZ')\n",
      "(6, 6, 4) Poly(15*a**6*b**2 + 120*a**5*b**3 + 225*a**4*b**4 + 120*a**3*b**5 + 15*a**2*b**6, a, b, domain='ZZ')\n",
      "(6, 6, 6) Poly(a**6 + 36*a**5*b + 225*a**4*b**2 + 400*a**3*b**3 + 225*a**2*b**4 + 36*a*b**5 + b**6, a, b, domain='ZZ')\n"
     ]
    },
    {
     "data": {
      "text/latex": [
       "$\\displaystyle \\operatorname{Poly}{\\left( a^{6} + 36 a^{5}b + 225 a^{4}b^{2} + 400 a^{3}b^{3} + 225 a^{2}b^{4} + 36 ab^{5} + b^{6}, a, b, domain=\\mathbb{Z} \\right)}$"
      ],
      "text/plain": [
       "Poly(a**6 + 36*a**5*b + 225*a**4*b**2 + 400*a**3*b**3 + 225*a**2*b**4 + 36*a*b**5 + b**6, a, b, domain='ZZ')"
      ]
     },
     "metadata": {},
     "output_type": "display_data"
    },
    {
     "data": {
      "text/latex": [
       "$\\displaystyle 400$"
      ],
      "text/plain": [
       "400"
      ]
     },
     "metadata": {},
     "output_type": "display_data"
    }
   ],
   "source": [
    "def binom(x, y):\n",
    "    approx = 1.0 / ((x + 1) * np.exp(betaln(x - y + 1, y + 1)))\n",
    "    return int(np.rint(approx))\n",
    "\n",
    "\n",
    "def binom_factor(i: int, j: int, a: float, b: float, s: int):\n",
    "    out = 0\n",
    "    for t in range(max(s - i, 0), j + 1):\n",
    "        assert ((s - i) <= t) & (t <= j)\n",
    "        val = binom(i, s - t) * binom(j, t) * a ** (i - (s - t)) * b ** (j - t)\n",
    "        out += val\n",
    "    return out\n",
    "\n",
    "def binom_factor_sym(i: int, j: int, a: Symbol, b: Symbol, s: int):\n",
    "    return Poly(binom_factor(i, j, a, b, s), a, b)\n",
    "\n",
    "\n",
    "a, b = symbols(\"a b\", real=True)\n",
    "for i in range(0,7,3):\n",
    "    for j in range(0,7,2):\n",
    "        for s in range(0,7,2):\n",
    "            bf = binom_factor_sym(i, j, a, b, s)\n",
    "            print((i, j, s), bf)\n",
    "\n",
    "display(bf, bf.coeff_monomial(a**3*b**3))"
   ]
  },
  {
   "cell_type": "code",
   "execution_count": 4,
   "metadata": {},
   "outputs": [
    {
     "data": {
      "text/latex": [
       "$\\displaystyle \\left[\\begin{matrix}1 & b & b^{2} & b^{3} & b^{4}\\\\a & a b & a b^{2} & a b^{3} & a b^{4}\\\\a^{2} & a^{2} b & a^{2} b^{2} & a^{2} b^{3} & a^{2} b^{4}\\\\a^{3} & a^{3} b & a^{3} b^{2} & a^{3} b^{3} & a^{3} b^{4}\\\\a^{4} & a^{4} b & a^{4} b^{2} & a^{4} b^{3} & a^{4} b^{4}\\end{matrix}\\right]$"
      ],
      "text/plain": [
       "Matrix([\n",
       "[   1,      b,      b**2,      b**3,      b**4],\n",
       "[   a,    a*b,    a*b**2,    a*b**3,    a*b**4],\n",
       "[a**2, a**2*b, a**2*b**2, a**2*b**3, a**2*b**4],\n",
       "[a**3, a**3*b, a**3*b**2, a**3*b**3, a**3*b**4],\n",
       "[a**4, a**4*b, a**4*b**2, a**4*b**3, a**4*b**4]])"
      ]
     },
     "metadata": {},
     "output_type": "display_data"
    },
    {
     "data": {
      "text/latex": [
       "$\\displaystyle \\left[\\begin{array}{ccccccccccccccccccccccccc}1 & b & b^{2} & b^{3} & b^{4} & a & a b & a b^{2} & a b^{3} & a b^{4} & a^{2} & a^{2} b & a^{2} b^{2} & a^{2} b^{3} & a^{2} b^{4} & a^{3} & a^{3} b & a^{3} b^{2} & a^{3} b^{3} & a^{3} b^{4} & a^{4} & a^{4} b & a^{4} b^{2} & a^{4} b^{3} & a^{4} b^{4}\\end{array}\\right]$"
      ],
      "text/plain": [
       "Matrix([[1, b, b**2, b**3, b**4, a, a*b, a*b**2, a*b**3, a*b**4, a**2, a**2*b, a**2*b**2, a**2*b**3, a**2*b**4, a**3, a**3*b, a**3*b**2, a**3*b**3, a**3*b**4, a**4, a**4*b, a**4*b**2, a**4*b**3, a**4*b**4]])"
      ]
     },
     "metadata": {},
     "output_type": "display_data"
    }
   ],
   "source": [
    "monomials_a = Matrix([a ** i for i in range(LMAX)])\n",
    "monomials_b = Matrix([b ** i for i in range(LMAX)])\n",
    "\n",
    "all_monomials = monomials_a * monomials_b.transpose()\n",
    "display(all_monomials)\n",
    "all_monomials = all_monomials.reshape(1,LMAX**2)\n",
    "\n",
    "display(all_monomials)\n"
   ]
  },
  {
   "cell_type": "code",
   "execution_count": 5,
   "metadata": {},
   "outputs": [
    {
     "data": {
      "text/plain": [
       "array([[0, 0, 0, 0, 0],\n",
       "       [0, 0, 0, 0, 0],\n",
       "       [0, 0, 0, 0, 225],\n",
       "       [0, 0, 0, 400, 0],\n",
       "       [0, 0, 225, 0, 0]], dtype=object)"
      ]
     },
     "execution_count": 5,
     "metadata": {},
     "output_type": "execute_result"
    }
   ],
   "source": [
    "def get_coeffs(p):\n",
    "  return tuple(p.coeff_monomial(m) for m in all_monomials)\n",
    "\n",
    "np.array(get_coeffs(binom_factor_sym(6,6,a,b,6))).reshape(LMAX,LMAX)"
   ]
  },
  {
   "cell_type": "code",
   "execution_count": 6,
   "metadata": {},
   "outputs": [
    {
     "name": "stdout",
     "output_type": "stream",
     "text": [
      "(0, 1, 2) (0, 0, 0, 0, 0, 0, 0, 0, 0, 0, 0, 0, 0, 0, 0, 0, 0, 0, 0, 0, 0, 0, 0, 0, 0) Poly(0, a, b, domain='ZZ')\n",
      "(0, 1, 4) (0, 0, 0, 0, 0, 0, 0, 0, 0, 0, 0, 0, 0, 0, 0, 0, 0, 0, 0, 0, 0, 0, 0, 0, 0) Poly(0, a, b, domain='ZZ')\n",
      "(0, 3, 3) (1, 0, 0, 0, 0, 0, 0, 0, 0, 0, 0, 0, 0, 0, 0, 0, 0, 0, 0, 0, 0, 0, 0, 0, 0) Poly(1, a, b, domain='ZZ')\n",
      "(1, 0, 4) (0, 0, 0, 0, 0, 0, 0, 0, 0, 0, 0, 0, 0, 0, 0, 0, 0, 0, 0, 0, 0, 0, 0, 0, 0) Poly(0, a, b, domain='ZZ')\n",
      "(2, 1, 3) (1, 0, 0, 0, 0, 0, 0, 0, 0, 0, 0, 0, 0, 0, 0, 0, 0, 0, 0, 0, 0, 0, 0, 0, 0) Poly(1, a, b, domain='ZZ')\n",
      "(3, 0, 4) (0, 0, 0, 0, 0, 0, 0, 0, 0, 0, 0, 0, 0, 0, 0, 0, 0, 0, 0, 0, 0, 0, 0, 0, 0) Poly(0, a, b, domain='ZZ')\n",
      "(3, 1, 1) (0, 0, 0, 0, 0, 0, 0, 0, 0, 0, 0, 3, 0, 0, 0, 1, 0, 0, 0, 0, 0, 0, 0, 0, 0) Poly(a**3 + 3*a**2*b, a, b, domain='ZZ')\n",
      "(3, 4, 0) (0, 0, 0, 0, 0, 0, 0, 0, 0, 0, 0, 0, 0, 0, 0, 0, 0, 0, 0, 1, 0, 0, 0, 0, 0) Poly(a**3*b**4, a, b, domain='ZZ')\n",
      "(4, 2, 0) (0, 0, 0, 0, 0, 0, 0, 0, 0, 0, 0, 0, 0, 0, 0, 0, 0, 0, 0, 0, 0, 0, 1, 0, 0) Poly(a**4*b**2, a, b, domain='ZZ')\n"
     ]
    }
   ],
   "source": [
    "weights = np.zeros((LMAX, LMAX, LMAX, LMAX*LMAX))\n",
    "for i in range(LMAX):\n",
    "    for j in range(LMAX):\n",
    "        for s in range(LMAX):\n",
    "            bf = binom_factor_sym(i, j, a, b, s)\n",
    "            val = get_coeffs(bf)\n",
    "            if np.random.rand()**LMAX > .7:\n",
    "              print((i, j, s), val, bf)\n",
    "            weights[i, j, s, :] = val"
   ]
  },
  {
   "cell_type": "code",
   "execution_count": 7,
   "metadata": {},
   "outputs": [
    {
     "name": "stdout",
     "output_type": "stream",
     "text": [
      "[ 1.         2.33       5.4289    12.649336  29.472952   1.1\n",
      "  2.563      5.97179   13.914269  32.420246   1.21       2.8193\n",
      "  6.568969  15.3056965 35.662273   1.3310001  3.1012301  7.225866\n",
      " 16.836267  39.2285     1.4641001  3.411353   7.948453  18.519894\n",
      " 43.151352 ]\n",
      "[ 1.          2.32999992  5.42889977 12.64933576 29.47295135  1.10000002\n",
      "  2.56299996  5.97178984 13.91426963 32.42024719  1.21000004  2.81929994\n",
      "  6.56896877 15.30569675 35.66227226  1.33100009  3.1012301   7.22586606\n",
      " 16.83626699 39.2285008   1.46410013  3.41135318  7.94845284 18.51989409\n",
      " 43.15135181]\n"
     ]
    }
   ],
   "source": [
    "import jax.numpy as jnp\n",
    "def get_monomials(a,b):\n",
    "    a_pows = a ** jnp.arange(LMAX)\n",
    "    b_pows = b ** jnp.arange(LMAX)\n",
    "    ans = a_pows.reshape(LMAX,1) @ b_pows.reshape(1,LMAX)\n",
    "    return ans.reshape(LMAX*LMAX)\n",
    "\n",
    "f = lambda x: np.array(x, dtype=np.float32)\n",
    "fa,fb = f(1.1),f(2.33)\n",
    "got = get_monomials(fa,fb)\n",
    "print(got)\n",
    "\n",
    "expect = lambdify((a,b), all_monomials, \"numpy\")(fa,fb).reshape(LMAX*LMAX)\n",
    "print(expect)\n",
    "\n",
    "np.testing.assert_allclose(got,expect)\n"
   ]
  },
  {
   "cell_type": "code",
   "execution_count": 8,
   "metadata": {},
   "outputs": [
    {
     "name": "stdout",
     "output_type": "stream",
     "text": [
      "nnz=190\n"
     ]
    }
   ],
   "source": [
    "inds = np.nonzero(weights)\n",
    "print(f'nnz={len(inds[0])}')\n",
    "\n",
    "import inspect\n",
    "\n",
    "with np.printoptions(threshold=np.inf, formatter={'float':lambda x:f'{x:.10g}'}):\n",
    "  with open(\"../pyscf_ipu/experimental/binom_factor_table.py\", \"w\") as file:\n",
    "    print(\n",
    "        f\"\"\"# Copyright (c) 2023 Graphcore Ltd. All rights reserved.\n",
    "# AUTOGENERATED from notebooks/binom_factor_table.ipynb\n",
    "\n",
    "# fmt: off\n",
    "# flake8: noqa\n",
    "# isort: skip_file\n",
    "\n",
    "import jax.numpy as jnp\n",
    "import numpy as np\n",
    "array = np.array\n",
    "\n",
    "LMAX = {LMAX}\n",
    "{inspect.getsource(get_monomials)}\n",
    "\n",
    "def build_binom_factor_table(sparse=False):\n",
    "    inds,values = {repr((inds, weights[inds]))}\n",
    "    if sparse:\n",
    "      return inds,values\n",
    "    else:\n",
    "      W = np.zeros((LMAX,LMAX,LMAX,LMAX*LMAX))\n",
    "      W[inds] = values\n",
    "      return W\n",
    "\"\"\",\n",
    "        file=file,\n",
    "        end=''\n",
    "    )"
   ]
  },
  {
   "cell_type": "markdown",
   "metadata": {},
   "source": [
    "## Test\n",
    "\n",
    "Import the file we just generated, and check it works"
   ]
  },
  {
   "cell_type": "code",
   "execution_count": 18,
   "metadata": {},
   "outputs": [
    {
     "name": "stdout",
     "output_type": "stream",
     "text": [
      "monomials=DeviceArray([ 1.       ,  2.2      ,  4.84     , 10.648001 , 23.425602 ,\n",
      "              1.1      ,  2.42     ,  5.3240004, 11.712801 , 25.768162 ,\n",
      "              1.21     ,  2.6620002,  5.8564005, 12.884081 , 28.344978 ,\n",
      "              1.3310001,  2.9282002,  6.4420404, 14.17249  , 31.179478 ,\n",
      "              1.4641001,  3.2210202,  7.0862446, 15.589739 , 34.29743  ],            dtype=float32)\n",
      "(0, 3, 3) 1.0 [1.]\n",
      "(0, 4, 2) 29.040000915527344 [29.04]\n",
      "(1, 0, 2) 0 [0.]\n",
      "(1, 0, 3) 0 [0.]\n",
      "(2, 0, 1) 2.200000047683716 [2.2]\n",
      "(2, 1, 4) 0 [0.]\n",
      "(2, 3, 0) 12.88408124395375 [12.884081]\n",
      "(2, 3, 2) 50.578002816677134 [50.578003]\n",
      "(2, 4, 0) 28.344979351059116 [28.344978]\n",
      "(3, 1, 2) 10.890000429153446 [10.89]\n",
      "(3, 1, 3) 5.5000001192092896 [5.5]\n",
      "(4, 2, 2) 60.02810437345515 [60.028107]\n",
      "(4, 2, 4) 31.460001220703134 [31.460001]\n",
      "(4, 3, 2) 164.27203597465098 [164.27203]\n",
      "(4, 3, 4) 127.77600698661814 [127.776]\n"
     ]
    }
   ],
   "source": [
    "from pyscf_ipu.experimental import binom_factor_table\n",
    "\n",
    "aval, bval = f(1.1), f(2.2)\n",
    "\n",
    "monomials = binom_factor_table.get_monomials(aval, bval)\n",
    "print(f\"{monomials=}\")\n",
    "\n",
    "W = jnp.array(binom_factor_table.build_binom_factor_table(), dtype=jnp.float32)\n",
    "table_ab = W @ monomials.reshape(LMAX*LMAX,1)\n",
    "\n",
    "for i in range(LMAX):\n",
    "    for j in range(LMAX):\n",
    "        for s in range(LMAX):\n",
    "            bf = binom_factor(i, j, aval, bval, s)\n",
    "            if np.random.rand() ** LMAX > 0.6:\n",
    "                print((i, j, s), bf, table_ab[i, j, s])\n",
    "            np.testing.assert_allclose(bf, table_ab[i, j, s], rtol=1e-6)"
   ]
  },
  {
   "cell_type": "code",
   "execution_count": null,
   "metadata": {},
   "outputs": [],
   "source": []
  }
 ],
 "metadata": {
  "kernelspec": {
   "display_name": "jaxipu",
   "language": "python",
   "name": "python3"
  },
  "language_info": {
   "codemirror_mode": {
    "name": "ipython",
    "version": 3
   },
   "file_extension": ".py",
   "mimetype": "text/x-python",
   "name": "python",
   "nbconvert_exporter": "python",
   "pygments_lexer": "ipython3",
   "version": "3.8.18"
  },
  "orig_nbformat": 4
 },
 "nbformat": 4,
 "nbformat_minor": 2
}
