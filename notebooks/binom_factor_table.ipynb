{
 "cells": [
  {
   "cell_type": "code",
   "execution_count": 1,
   "metadata": {},
   "outputs": [],
   "source": [
    "from jax.scipy.special import betaln, gammainc, gammaln\n",
    "import numpy as np\n",
    "from sympy import *"
   ]
  },
  {
   "cell_type": "markdown",
   "metadata": {},
   "source": [
    "## Table lookup for \"binom factor\"\n",
    "\n",
    "The function called \"binom factor\" is one of those with a variable-sized loop, \n",
    "which is tricky to vectorize.  Its definition is\n",
    "$$\n",
    "B(i,j,a,b,s) = \\sum_{n=s-i}^j \\binom{i}{s-n} \\binom{j}{n} a^{i-(s-n)} b^{j-n}\n",
    "$$\n",
    "\n",
    "Its arguments are three integers $(i,j,s)$ and two floats.  It can't be a lookup table because of the floats, and it can't be a simple table of functions because JAX would not be impressed.\n",
    "\n",
    "But... For a given $i,j,s$ we know it will be a polynomial in $(a,b)$:\n",
    "$$\n",
    "B(i,j,a,b,s) = \\sum_{p=1}^{max} \\sum_{q=1}^{max} w^{i,j,s}_{p,q} a^p b^q\n",
    "$$\n",
    "\n",
    "This notebook computes those weights.  If max=8, that is a 128KB array so might need to be sparsely stored."
   ]
  },
  {
   "cell_type": "code",
   "execution_count": 2,
   "metadata": {},
   "outputs": [
    {
     "name": "stdout",
     "output_type": "stream",
     "text": [
      "kilobytes=12.20703125\n"
     ]
    }
   ],
   "source": [
    "LMAX = 4\n",
    "kilobytes = LMAX ** 5 * 4 / 1024\n",
    "print(f\"{kilobytes=}\")"
   ]
  },
  {
   "cell_type": "markdown",
   "metadata": {},
   "source": [
    "Let's now compute the coefficients W.  First, we just define the functions, then pass them through sympy."
   ]
  },
  {
   "cell_type": "code",
   "execution_count": 3,
   "metadata": {},
   "outputs": [
    {
     "name": "stderr",
     "output_type": "stream",
     "text": [
      "WARNING:absl:No GPU/TPU found, falling back to CPU. (Set TF_CPP_MIN_LOG_LEVEL=0 and rerun for more info.)\n"
     ]
    },
    {
     "name": "stdout",
     "output_type": "stream",
     "text": [
      "(0, 0, 0) 1\n",
      "(0, 0, 1) 0\n",
      "(0, 0, 2) 0\n",
      "(0, 0, 3) 0\n",
      "(0, 0, 4) 0\n",
      "(0, 1, 0) b\n",
      "(0, 1, 1) 1\n",
      "(0, 1, 2) 0\n",
      "(0, 1, 3) 0\n",
      "(0, 1, 4) 0\n",
      "(0, 2, 0) b**2\n",
      "(0, 2, 1) 2*b\n",
      "(0, 2, 2) 1\n",
      "(0, 2, 3) 0\n",
      "(0, 2, 4) 0\n",
      "(1, 0, 0) a\n",
      "(1, 0, 1) 1\n",
      "(1, 0, 2) 0\n",
      "(1, 0, 3) 0\n",
      "(1, 0, 4) 0\n",
      "(1, 1, 0) a*b\n",
      "(1, 1, 1) a + b\n",
      "(1, 1, 2) 1\n",
      "(1, 1, 3) 0\n",
      "(1, 1, 4) 0\n",
      "(1, 2, 0) a*b**2\n",
      "(1, 2, 1) 2*a*b + b**2\n",
      "(1, 2, 2) a + 2*b\n",
      "(1, 2, 3) 1\n",
      "(1, 2, 4) 0\n",
      "(2, 0, 0) a**2\n",
      "(2, 0, 1) 2*a\n",
      "(2, 0, 2) 1\n",
      "(2, 0, 3) 0\n",
      "(2, 0, 4) 0\n",
      "(2, 1, 0) a**2*b\n",
      "(2, 1, 1) a**2 + 2*a*b\n",
      "(2, 1, 2) 2*a + b\n",
      "(2, 1, 3) 1\n",
      "(2, 1, 4) 0\n",
      "(2, 2, 0) a**2*b**2\n",
      "(2, 2, 1) 2*a**2*b + 2*a*b**2\n",
      "(2, 2, 2) a**2 + 4*a*b + b**2\n",
      "(2, 2, 3) 2*a + 2*b\n",
      "(2, 2, 4) 1\n"
     ]
    },
    {
     "data": {
      "text/latex": [
       "$\\displaystyle 1$"
      ],
      "text/plain": [
       "1"
      ]
     },
     "execution_count": 3,
     "metadata": {},
     "output_type": "execute_result"
    }
   ],
   "source": [
    "def binom(x, y):\n",
    "    approx = 1.0 / ((x + 1) * np.exp(betaln(x - y + 1, y + 1)))\n",
    "    return int(np.rint(approx))\n",
    "\n",
    "\n",
    "def binom_factor(i: int, j: int, a: float, b: float, s: int):\n",
    "    out = 0\n",
    "    for t in range(max(s - i, 0), j + 1):\n",
    "        assert ((s - i) <= t) & (t <= j)\n",
    "        val = binom(i, s - t) * binom(j, t) * a ** (i - (s - t)) * b ** (j - t)\n",
    "        out += val\n",
    "    return out\n",
    "\n",
    "\n",
    "a, b = symbols(\"a b\", real=True)\n",
    "for i in range(3):\n",
    "    for j in range(3):\n",
    "        for s in range(5):\n",
    "            bf = binom_factor(i, j, a, b, s)\n",
    "            print((i, j, s), bf)\n",
    "\n",
    "bf"
   ]
  },
  {
   "cell_type": "code",
   "execution_count": 4,
   "metadata": {},
   "outputs": [
    {
     "data": {
      "text/latex": [
       "$\\displaystyle \\left\\{ 1 : 4, \\  a : 1, \\  a b : 3\\right\\}$"
      ],
      "text/plain": [
       "{1: 4, a: 1, a*b: 3}"
      ]
     },
     "metadata": {},
     "output_type": "display_data"
    },
    {
     "data": {
      "text/latex": [
       "$\\displaystyle b^{2}$"
      ],
      "text/plain": [
       "b**2"
      ]
     },
     "metadata": {},
     "output_type": "display_data"
    },
    {
     "data": {
      "text/plain": [
       "{b**2: 1}"
      ]
     },
     "metadata": {},
     "output_type": "display_data"
    },
    {
     "data": {
      "text/latex": [
       "$\\displaystyle 1$"
      ],
      "text/plain": [
       "1"
      ]
     },
     "metadata": {},
     "output_type": "display_data"
    },
    {
     "data": {
      "text/plain": [
       "{1: 1.00000000000000}"
      ]
     },
     "metadata": {},
     "output_type": "display_data"
    },
    {
     "data": {
      "text/latex": [
       "$\\displaystyle 2 a b + b^{2}$"
      ],
      "text/plain": [
       "2*a*b + b**2"
      ]
     },
     "metadata": {},
     "output_type": "display_data"
    }
   ],
   "source": [
    "# https://stackoverflow.com/questions/74731353/is-there-any-all-coeffs-for-multivariable-polynomials-in-sympy\n",
    "def all_coeffs(expr, *free):\n",
    "    if isinstance(expr, (int, Number)):\n",
    "        return {S(1): N(expr)}\n",
    "\n",
    "    x = IndexedBase(\"x\")\n",
    "    expr = expr.expand()\n",
    "    free = list(free) or list(expr.free_symbols)\n",
    "    pows = [p.as_base_exp() for p in expr.atoms(Pow, Symbol)]\n",
    "    P = {}\n",
    "    for p, e in pows:\n",
    "        if p not in free:\n",
    "            continue\n",
    "        elif p not in P:\n",
    "            P[p] = e\n",
    "        elif e > P[p]:\n",
    "            P[p] = e\n",
    "    reps = dict([(f, x[i]) for i, f in enumerate(free)])\n",
    "    xzero = dict([(v, 0) for k, v in reps.items()])\n",
    "    e = expr.xreplace(reps)\n",
    "    reps = {v: k for k, v in reps.items()}\n",
    "    ans = dict(\n",
    "        [\n",
    "            (\n",
    "                m.xreplace(reps),\n",
    "                e.coeff(m).xreplace(xzero) if m != 1 else e.xreplace(xzero),\n",
    "            )\n",
    "            for m in monomials(*[P[f] for f in free])\n",
    "        ]\n",
    "    )\n",
    "    return {m: w for m, w in ans.items() if w != 0}\n",
    "\n",
    "\n",
    "def monomials(*o):\n",
    "    x = IndexedBase(\"x\")\n",
    "    f = []\n",
    "    for i, o in enumerate(o):\n",
    "        f.append(Poly([1] * (o + 1), x[i]).as_expr())\n",
    "    return Mul(*f).expand().args\n",
    "\n",
    "\n",
    "assert all_coeffs(4 + a + 3 * b * a) == {1: 4, a: 1, a * b: 3}\n",
    "display(S(all_coeffs(4 + a + 3 * b * a)))\n",
    "\n",
    "bf = binom_factor(0, 2, a, b, 0)\n",
    "display(bf, all_coeffs(bf))\n",
    "assert all_coeffs(b * b) == {b * b: 1}\n",
    "\n",
    "bf = binom_factor(0, 0, a, b, 0)\n",
    "assert bf == 1\n",
    "display(bf, all_coeffs(bf))\n",
    "assert all_coeffs(bf) == {1: 1}\n",
    "\n",
    "bf = binom_factor(1, 2, a, b, 1)\n",
    "display(bf)\n"
   ]
  },
  {
   "cell_type": "code",
   "execution_count": 5,
   "metadata": {},
   "outputs": [
    {
     "data": {
      "text/latex": [
       "$\\displaystyle \\left( \\left( 1, \\  1, \\  0\\right), \\  a b, \\  \\left\\{ a b : 1\\right\\}\\right)$"
      ],
      "text/plain": [
       "((1, 1, 0), a*b, {a*b: 1})"
      ]
     },
     "metadata": {},
     "output_type": "display_data"
    },
    {
     "data": {
      "text/latex": [
       "$\\displaystyle \\left( \\left( 1, \\  1, \\  1\\right), \\  a + b, \\  \\left\\{ a : 1, \\  b : 1\\right\\}\\right)$"
      ],
      "text/plain": [
       "((1, 1, 1), a + b, {a: 1, b: 1})"
      ]
     },
     "metadata": {},
     "output_type": "display_data"
    },
    {
     "data": {
      "text/latex": [
       "$\\displaystyle \\left( \\left( 1, \\  1, \\  2\\right), \\  1, \\  \\left\\{ 1 : 1.0\\right\\}\\right)$"
      ],
      "text/plain": [
       "((1, 1, 2), 1, {1: 1.0})"
      ]
     },
     "metadata": {},
     "output_type": "display_data"
    },
    {
     "data": {
      "text/latex": [
       "$\\displaystyle \\left( \\left( 1, \\  3, \\  0\\right), \\  a b^{3}, \\  \\left\\{ a b^{3} : 1\\right\\}\\right)$"
      ],
      "text/plain": [
       "((1, 3, 0), a*b**3, {a*b**3: 1})"
      ]
     },
     "metadata": {},
     "output_type": "display_data"
    },
    {
     "data": {
      "text/latex": [
       "$\\displaystyle \\left( \\left( 1, \\  3, \\  1\\right), \\  3 a b^{2} + b^{3}, \\  \\left\\{ b^{3} : 1, \\  a b^{2} : 3\\right\\}\\right)$"
      ],
      "text/plain": [
       "((1, 3, 1), 3*a*b**2 + b**3, {b**3: 1, a*b**2: 3})"
      ]
     },
     "metadata": {},
     "output_type": "display_data"
    },
    {
     "data": {
      "text/latex": [
       "$\\displaystyle \\left( \\left( 1, \\  3, \\  2\\right), \\  3 a b + 3 b^{2}, \\  \\left\\{ b^{2} : 3, \\  a b : 3\\right\\}\\right)$"
      ],
      "text/plain": [
       "((1, 3, 2), 3*a*b + 3*b**2, {b**2: 3, a*b: 3})"
      ]
     },
     "metadata": {},
     "output_type": "display_data"
    },
    {
     "data": {
      "text/latex": [
       "$\\displaystyle \\left( \\left( 1, \\  3, \\  3\\right), \\  a + 3 b, \\  \\left\\{ a : 1, \\  b : 3\\right\\}\\right)$"
      ],
      "text/plain": [
       "((1, 3, 3), a + 3*b, {a: 1, b: 3})"
      ]
     },
     "metadata": {},
     "output_type": "display_data"
    },
    {
     "data": {
      "text/latex": [
       "$\\displaystyle \\left( \\left( 1, \\  3, \\  4\\right), \\  1, \\  \\left\\{ 1 : 1.0\\right\\}\\right)$"
      ],
      "text/plain": [
       "((1, 3, 4), 1, {1: 1.0})"
      ]
     },
     "metadata": {},
     "output_type": "display_data"
    },
    {
     "data": {
      "text/latex": [
       "$\\displaystyle \\left( \\left( 3, \\  1, \\  0\\right), \\  a^{3} b, \\  \\left\\{ a^{3} b : 1\\right\\}\\right)$"
      ],
      "text/plain": [
       "((3, 1, 0), a**3*b, {a**3*b: 1})"
      ]
     },
     "metadata": {},
     "output_type": "display_data"
    },
    {
     "data": {
      "text/latex": [
       "$\\displaystyle \\left( \\left( 3, \\  1, \\  1\\right), \\  a^{3} + 3 a^{2} b, \\  \\left\\{ a^{3} : 1, \\  a^{2} b : 3\\right\\}\\right)$"
      ],
      "text/plain": [
       "((3, 1, 1), a**3 + 3*a**2*b, {a**3: 1, a**2*b: 3})"
      ]
     },
     "metadata": {},
     "output_type": "display_data"
    },
    {
     "data": {
      "text/latex": [
       "$\\displaystyle \\left( \\left( 3, \\  1, \\  2\\right), \\  3 a^{2} + 3 a b, \\  \\left\\{ a^{2} : 3, \\  a b : 3\\right\\}\\right)$"
      ],
      "text/plain": [
       "((3, 1, 2), 3*a**2 + 3*a*b, {a**2: 3, a*b: 3})"
      ]
     },
     "metadata": {},
     "output_type": "display_data"
    },
    {
     "data": {
      "text/latex": [
       "$\\displaystyle \\left( \\left( 3, \\  1, \\  3\\right), \\  3 a + b, \\  \\left\\{ a : 3, \\  b : 1\\right\\}\\right)$"
      ],
      "text/plain": [
       "((3, 1, 3), 3*a + b, {a: 3, b: 1})"
      ]
     },
     "metadata": {},
     "output_type": "display_data"
    },
    {
     "data": {
      "text/latex": [
       "$\\displaystyle \\left( \\left( 3, \\  1, \\  4\\right), \\  1, \\  \\left\\{ 1 : 1.0\\right\\}\\right)$"
      ],
      "text/plain": [
       "((3, 1, 4), 1, {1: 1.0})"
      ]
     },
     "metadata": {},
     "output_type": "display_data"
    },
    {
     "data": {
      "text/latex": [
       "$\\displaystyle \\left( \\left( 3, \\  3, \\  0\\right), \\  a^{3} b^{3}, \\  \\left\\{ a^{3} b^{3} : 1\\right\\}\\right)$"
      ],
      "text/plain": [
       "((3, 3, 0), a**3*b**3, {a**3*b**3: 1})"
      ]
     },
     "metadata": {},
     "output_type": "display_data"
    },
    {
     "data": {
      "text/latex": [
       "$\\displaystyle \\left( \\left( 3, \\  3, \\  1\\right), \\  3 a^{3} b^{2} + 3 a^{2} b^{3}, \\  \\left\\{ a^{2} b^{3} : 3, \\  a^{3} b^{2} : 3\\right\\}\\right)$"
      ],
      "text/plain": [
       "((3, 3, 1), 3*a**3*b**2 + 3*a**2*b**3, {a**2*b**3: 3, a**3*b**2: 3})"
      ]
     },
     "metadata": {},
     "output_type": "display_data"
    },
    {
     "data": {
      "text/latex": [
       "$\\displaystyle \\left( \\left( 3, \\  3, \\  2\\right), \\  3 a^{3} b + 9 a^{2} b^{2} + 3 a b^{3}, \\  \\left\\{ a b^{3} : 3, \\  a^{2} b^{2} : 9, \\  a^{3} b : 3\\right\\}\\right)$"
      ],
      "text/plain": [
       "((3, 3, 2), 3*a**3*b + 9*a**2*b**2 + 3*a*b**3, {a*b**3: 3, a**2*b**2: 9, a**3*b: 3})"
      ]
     },
     "metadata": {},
     "output_type": "display_data"
    },
    {
     "data": {
      "text/latex": [
       "$\\displaystyle \\left( \\left( 3, \\  3, \\  3\\right), \\  a^{3} + 9 a^{2} b + 9 a b^{2} + b^{3}, \\  \\left\\{ a^{3} : 1, \\  b^{3} : 1, \\  a b^{2} : 9, \\  a^{2} b : 9\\right\\}\\right)$"
      ],
      "text/plain": [
       "((3, 3, 3), a**3 + 9*a**2*b + 9*a*b**2 + b**3, {a**3: 1, b**3: 1, a*b**2: 9, a**2*b: 9})"
      ]
     },
     "metadata": {},
     "output_type": "display_data"
    },
    {
     "data": {
      "text/latex": [
       "$\\displaystyle \\left( \\left( 3, \\  3, \\  4\\right), \\  3 a^{2} + 9 a b + 3 b^{2}, \\  \\left\\{ a^{2} : 3, \\  b^{2} : 3, \\  a b : 9\\right\\}\\right)$"
      ],
      "text/plain": [
       "((3, 3, 4), 3*a**2 + 9*a*b + 3*b**2, {a**2: 3, b**2: 3, a*b: 9})"
      ]
     },
     "metadata": {},
     "output_type": "display_data"
    },
    {
     "name": "stdout",
     "output_type": "stream",
     "text": [
      "len(all_monomials)=25\n"
     ]
    },
    {
     "data": {
      "text/latex": [
       "$\\displaystyle \\left( 1, \\  a^{2} b, \\  a^{4}, \\  a^{2} b^{4}, \\  b^{4}, \\  a^{3} b^{2}, \\  a^{4} b^{2}, \\  a b^{4}, \\  a^{3} b, \\  a^{3} b^{3}, \\  a^{2}, \\  a b, \\  a^{4} b^{3}, \\  b^{2}, \\  a^{4} b, \\  a, \\  a^{3} b^{4}, \\  a^{4} b^{4}, \\  a^{2} b^{2}, \\  a b^{2}, \\  b, \\  b^{3}, \\  a^{3}, \\  a^{2} b^{3}, \\  a b^{3}\\right)$"
      ],
      "text/plain": [
       "(1, a**2*b, a**4, a**2*b**4, b**4, a**3*b**2, a**4*b**2, a*b**4, a**3*b, a**3*b**3, a**2, a*b, a**4*b**3, b**2, a**4*b, a, a**3*b**4, a**4*b**4, a**2*b**2, a*b**2, b, b**3, a**3, a**2*b**3, a*b**3)"
      ]
     },
     "metadata": {},
     "output_type": "display_data"
    }
   ],
   "source": [
    "all_monomials = set()\n",
    "for i in range(LMAX):\n",
    "    for j in range(LMAX):\n",
    "        for s in range(LMAX):\n",
    "            bf = binom_factor(i, j, a, b, s)\n",
    "            if bf:\n",
    "                coefs = all_coeffs(bf)\n",
    "                if LMAX < 5 or i%2 and j%2:\n",
    "                    display(S(((i, j, s), bf, coefs)))\n",
    "                all_monomials = all_monomials.union(set(coefs.keys()))\n",
    "all_monomials = tuple(all_monomials)\n",
    "n = len(all_monomials)\n",
    "print(f\"{len(all_monomials)=}\")\n",
    "display(S(all_monomials))\n",
    "# monom_map = {k:i for i,k in enumerate(all_monomials)}\n",
    "\n",
    "weights = np.zeros((LMAX, LMAX, LMAX, n))\n",
    "for i in range(LMAX):\n",
    "    for j in range(LMAX):\n",
    "        for s in range(LMAX):\n",
    "            bf = binom_factor(i, j, a, b, s)\n",
    "            coefs = all_coeffs(bf)\n",
    "            val = [coefs.get(monom, 0) for monom in all_monomials]\n",
    "            if LMAX < 5:\n",
    "              print((i, j, s), val, bf)\n",
    "            weights[i, j, s, :] = val"
   ]
  },
  {
   "cell_type": "code",
   "execution_count": 6,
   "metadata": {},
   "outputs": [
    {
     "name": "stdout",
     "output_type": "stream",
     "text": [
      "nnz=190\n"
     ]
    }
   ],
   "source": [
    "inds = np.nonzero(weights)\n",
    "print(f'nnz={len(inds[0])}')\n",
    "\n",
    "with np.printoptions(threshold=np.inf, formatter={'float':lambda x:f'{x:.10g}'}):\n",
    "  with open(\"../pyscf_ipu/experimental/binom_factor_table.py\", \"w\") as f:\n",
    "    print(\n",
    "        f\"\"\"# Copyright (c) 2023 Graphcore Ltd. All rights reserved.\n",
    "# AUTOGENERATED from notebooks/binom_factor_table.ipynb\n",
    "\n",
    "# fmt: off\n",
    "# flake8: noqa\n",
    "# isort: skip_file\n",
    "\n",
    "from numpy import array,zeros\n",
    "\n",
    "LMAX = {LMAX}\n",
    "def get_monomials(a,b):\n",
    "    return {all_monomials}\n",
    "\n",
    "def build_binom_factor_table(sparse=False):\n",
    "    inds,values = {repr((inds, weights[inds]))}\n",
    "    if sparse:\n",
    "      return inds,values\n",
    "    else:\n",
    "      W = zeros((LMAX,LMAX,LMAX,LMAX*LMAX))\n",
    "      W[inds] = values\n",
    "      return W\n",
    "\"\"\",\n",
    "        file=f,\n",
    "        end=''\n",
    "    )"
   ]
  },
  {
   "cell_type": "markdown",
   "metadata": {},
   "source": [
    "## Test\n",
    "\n",
    "Import the file we just generated, and check it works"
   ]
  },
  {
   "cell_type": "code",
   "execution_count": 8,
   "metadata": {},
   "outputs": [
    {
     "name": "stdout",
     "output_type": "stream",
     "text": [
      "monomials=(1, 2.662000000000001, 1.4641000000000004, 28.344976000000013, 23.425600000000006, 6.442040000000003, 7.086244000000003, 25.76816000000001, 2.9282000000000012, 14.172488000000008, 1.2100000000000002, 2.4200000000000004, 15.58973680000001, 4.840000000000001, 3.221020000000001, 1.1, 31.17947360000002, 34.29742096000002, 5.856400000000002, 5.324000000000002, 2.2, 10.648000000000003, 1.3310000000000004, 12.884080000000006, 11.712800000000005)\n"
     ]
    }
   ],
   "source": [
    "from pyscf_ipu.experimental import binom_factor_table\n",
    "\n",
    "aval, bval = 1.1, 2.2\n",
    "\n",
    "monomials = binom_factor_table.get_monomials(aval, bval)\n",
    "print(f\"{monomials=}\")\n",
    "\n",
    "W = binom_factor_table.build_binom_factor_table()\n",
    "\n",
    "table_ab = W @ monomials\n",
    "\n",
    "for i in range(LMAX):\n",
    "    for j in range(LMAX):\n",
    "        for s in range(LMAX):\n",
    "            bf = binom_factor(i, j, aval, bval, s)\n",
    "            if LMAX < 5:\n",
    "                print((i, j, s), bf, table_ab[i, j, s])\n",
    "            np.testing.assert_allclose(bf, table_ab[i, j, s])"
   ]
  },
  {
   "cell_type": "code",
   "execution_count": null,
   "metadata": {},
   "outputs": [],
   "source": []
  }
 ],
 "metadata": {
  "kernelspec": {
   "display_name": "jaxipu",
   "language": "python",
   "name": "python3"
  },
  "language_info": {
   "codemirror_mode": {
    "name": "ipython",
    "version": 3
   },
   "file_extension": ".py",
   "mimetype": "text/x-python",
   "name": "python",
   "nbconvert_exporter": "python",
   "pygments_lexer": "ipython3",
   "version": "3.8.18"
  },
  "orig_nbformat": 4
 },
 "nbformat": 4,
 "nbformat_minor": 2
}
