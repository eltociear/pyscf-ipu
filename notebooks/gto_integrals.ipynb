{
 "cells": [
  {
   "cell_type": "markdown",
   "metadata": {},
   "source": [
    "*Copyright (c) 2023 Graphcore Ltd. All rights reserved.*\n",
    "\n",
    "$$\n",
    "\\def\\br{\\mathbf{r}}\n",
    "\\def\\bA{\\mathbf{A}}\n",
    "$$\n",
    "\n",
    "# Integrals over Gaussian Type Orbitals (GTO)\n",
    "\n",
    "Zooming straight past a number of details, a standard approach in density functional theory (DFT)\n",
    "is to expand the molecular orbitals $\\{\\psi_i (\\br) \\}$ in a finite basis set:\n",
    "$$\n",
    "\\tag{1}\n",
    "\\psi_i (\\br) = \\sum_{i=1}^N c_i \\phi_i (\\br).\n",
    "$$\n",
    "Typically the basis functions $\\{\\phi_i (\\br) \\}$ are taken as approximations of atomic orbitals and this is referred to as the linear combination of atomic orbitals (LCAO) method in the literature. There is some flexibility in how exactly this finite\n",
    "basis is defined.  Gaussian type orbitals (GTO) are perhaps\n",
    "one of the most popular choices and take the following general form \n",
    "$$\n",
    "\\tag{2}\n",
    "\\phi_i (\\br; \\bA, \\alpha, l, m, n) = N x_A^l y_A^m z_A^n e^{-\\alpha |\\br - \\bA|^2}.\n",
    "$$\n",
    "These functions are parameterised by:\n",
    "* $\\bA = (X_A, Y_A, Z_A)$ is the center of the Gaussian orbital that for our current treatment will be set by the atomic positions of the molecular structure we are simulating. We use the shorthand of $x_A = x - X_A$ in the leading polynomial term\n",
    "* $\\alpha$ in the exponent determines the extent of the Gaussian orbital.\n",
    "* $(l, m, n)$ are the angular momentum quantum numbers that take on non-negative integer values.\n",
    "* normalising constant $N$ is a function of $\\alpha$ and $(l, m, n)$ and is derived later in this notebook.\n",
    "\n",
    "Another complication that is worth mentioning up front is that we typically encounter \n",
    "*contracted* Gaussian basis functions defined as:\n",
    "$$\n",
    "\\tag{3}\n",
    "\\phi_i (\\br; \\bA, l, m, n)  = \\sum_{\\mu=1}^{K_i} d_{\\mu i} p_\\mu(\\br; \\bA, \\alpha_\\mu, l, m, n)\n",
    "$$\n",
    "where we introduce the *primitive* Gaussian:\n",
    "$$\n",
    "\\tag{4}\n",
    "p_\\mu(\\br; \\bA, \\alpha_\\mu, l, m, n) = N x_A^l y_A^m z_A^n e^{-\\alpha_\\mu |\\br - \\bA|^2}.\n",
    "$$\n",
    "In general the length of the contraction $K_i$ have been pre-optimised alongside the contraction coefficients $d_{\\mu i}$ and the primitive exponents $\\alpha_\\mu$ to best approximate atomic orbitals.  A range of Gaussian basis sets covering the periodic table with different compute time vs accuracy tradeoffs are available from the [basis set exchange](https://www.basissetexchange.org/).  We use their python API in this project to provide programmatic access to these basis sets.\n",
    "\n",
    "To demonstrate these concepts, we use the `basisset` function to build the atomic orbitals of a single oxygen atom. The `Basis` object built by `basisset` consists of a list of `Orbital` objects which are defined by a set of `coefficients` and corresponding `Primitive` objects."
   ]
  },
  {
   "cell_type": "code",
   "execution_count": 1,
   "metadata": {},
   "outputs": [
    {
     "data": {
      "text/plain": [
       "5"
      ]
     },
     "execution_count": 1,
     "metadata": {},
     "output_type": "execute_result"
    }
   ],
   "source": [
    "import numpy as np\n",
    "from pyscf_ipu.experimental.structure import Structure\n",
    "from pyscf_ipu.experimental.basis import basisset\n",
    "\n",
    "basisname = \"sto-3g\"\n",
    "oxygen = Structure(atomic_number=np.array([8]), position=np.zeros(3))\n",
    "basis = basisset(oxygen, basisname)\n",
    "basis.num_orbitals"
   ]
  },
  {
   "cell_type": "markdown",
   "metadata": {},
   "source": [
    "The number of atomic orbitals follows from the [Aufbau principle](https://en.wikipedia.org/wiki/Aufbau_principle).  Applying this to a single Oxygen atom predicts the electron configuration as $1s^2 2s^2 2p^4$ which keeping in mind that the $2p$ atomic orbitals will consist of three orbitals we arrive at five atomic orbitals for a single oxygen atom.\n",
    "\n",
    "This rule applies when using a minimal basis set such as `\"sto-3g\"` which uses a\n",
    "contraction of 3 Gaussians to approximate each atomic orbital.  From this we expect a tottal of 15 primitives in the basis set for a single oxygen atom:"
   ]
  },
  {
   "cell_type": "code",
   "execution_count": 2,
   "metadata": {},
   "outputs": [
    {
     "data": {
      "text/plain": [
       "15"
      ]
     },
     "execution_count": 2,
     "metadata": {},
     "output_type": "execute_result"
    }
   ],
   "source": [
    "basis.num_primitives"
   ]
  },
  {
   "cell_type": "markdown",
   "metadata": {},
   "source": [
    "We can plot these atomic orbitals by first evaluating the basis functions on a regular grid and using py3DMol to render isosurfaces.  The $1s$ and $2s$ orbitals have spherical symmetry so we plot the $2px$ orbital below."
   ]
  },
  {
   "cell_type": "code",
   "execution_count": null,
   "metadata": {},
   "outputs": [],
   "source": [
    "from pyscf_ipu.experimental.mesh import uniform_mesh, molecular_orbitals\n",
    "from pyscf_ipu.experimental.plot import plot_volume\n",
    "\n",
    "\n",
    "# Evaluate the molecular orbitals on a mesh -> [num_mesh_points, num_orbitals]\n",
    "mesh, axes = uniform_mesh(n=32, b=3.0)\n",
    "orbitals = molecular_orbitals(basis, mesh)\n",
    "orbitals = np.asarray(orbitals)\n",
    "\n",
    "# Mapping between orbital label -> index in basis set\n",
    "orbital_idx = dict(zip([\"1s\", \"2s\", \"2px\", \"2py\", \"2pz\"], range(5)))\n",
    "plot_volume(oxygen, orbitals[:, orbital_idx[\"2px\"]], axes)"
   ]
  },
  {
   "cell_type": "markdown",
   "metadata": {},
   "source": [
    "$$\n",
    "\\def\\br{\\mathbf{r}}\n",
    "\\def\\bA{\\mathbf{A}}\n",
    "$$\n",
    "\n",
    "The above visualisation uses the formulas defined earlier to numerically evaluate\n",
    "each atomic orbital from a linear combintation of primitive Gaussians. Introducing\n",
    "the basis set allows us to replace the problem of solving a system partial differential equations (e.g. the Kohn-Sham equations) with an algebraic system of equations that can be solved using standard matrix eigenvalue techniques.\n",
    "The individual elements of the matrices in this system are integrals over pairs of\n",
    "basis functions:\n",
    "$$\n",
    "\\tag{5}\n",
    "M_{ij} = \\int \\phi_i(\\br) \\hat{M}(\\br) \\phi_j(\\br) d\\br.\n",
    "$$\n",
    "We introduce the operator $\\hat{M}(\\br)$ which in its most general definition is\n",
    "a function that transforms the $\\phi_j(\\br)$ basis functions to represent a physical\n",
    "observable.  That sounds fancy but is just a complicated way of saying we are breaking\n",
    "down something we can measure (e.g. the energy, dipole moment, etc) into components\n",
    "that we can evaluate through these integrals.  The simplest operator is simply an \n",
    "identity mapping that we name the overlap:\n",
    "$$\n",
    "\\tag{6}\n",
    "S_{ij} = \\int \\phi_i(\\br) \\phi_j(\\br) d\\br.\n",
    "$$\n",
    "Recalling that each of the atomic orbitals are represented as a linear combination of primitives allows us to further expand the overlap integral as:\n",
    "$$\n",
    "\\tag{7}\n",
    "S_{ij} = \\int \\sum_{\\mu = 1}^{K_i} \\sum_{\\nu = 1}^{K_j} d_{\\mu i} d_{\\nu j} p_\\mu(\\br)  p_{\\nu}(\\br) d\\br = \\sum_{\\mu \\nu} d_{\\mu i} d_{\\nu j} \\tilde{S}_{{\\mu \\nu}}.\n",
    "$$\n",
    "Since we can swap the order of integration and the double-summation we are able to introduce $\\tilde{S}_{\\mu \\nu}$ as the elements of the overlap matrix in terms of the primitive functions:\n",
    "$$\n",
    "\\tag{8}\n",
    "\\tilde{S}_{\\mu \\nu} = \\int p_\\mu(\\br) p_\\nu(\\br) d\\br.\n",
    "$$\n",
    "This finally sets us up to discuss the benefits of using an expansion in Gaussian type orbitals to iteratively solve Kohn-Sham equations using the self-consistent field (SCF) method. As an aside, for a nice overview and derivation of the SCF method we refer the reader to the following review article:\n",
    "\n",
    "> Lehtola, S., Blockhuys, F. and Van Alsenoy, C., 2020. An overview of self-consistent field calculations within finite basis sets. Molecules, 25(5), p.1218. [open access](https://doi.org/10.3390/molecules25051218)\n",
    "\n",
    "Gaussian basis functions of the form above have a few convenient properties that help\n",
    "make it easier to evaluate integrals of the form in equation (5).  To show this\n",
    "we start by expanding the overlap integral into its full three-dimensional form:\n",
    "$$\n",
    "\\tag{9}\n",
    "\\tilde{S}_{\\mu \\nu} = \\iiint p_\\mu(\\br) p_\\nu(\\br) dx dy dz,\n",
    "$$\n",
    "and observing that a primitive $p_\\mu(\\br)$ can be written as a product of cartesian components:\n",
    "$$\n",
    "\\tag{10}\n",
    "p_\\mu(\\br) = N_\\mu\n",
    "\\left(x_A^l e^{-\\alpha_\\mu x_A^2} \\right)\n",
    "\\left(y_A^m e^{-\\alpha_\\mu y_A^2} \\right)\n",
    "\\left(z_A^n e^{-\\alpha_\\mu z_A^2} \\right),\n",
    "$$\n",
    "we directly see that we can separate the three-dimensional integral in equation (9) as a\n",
    "product of three one-dimensional integrals:\n",
    "$$\n",
    "\\tag{11}\n",
    "\\tilde{S}_{\\mu \\nu} = N_\\mu N_\\nu \\tilde{S}_{\\mu \\nu}^{(x)} \\tilde{S}_{\\mu \\nu}^{(y)} \\tilde{S}_{\\mu \\nu}^{(z)}\n",
    "$$\n",
    "where we introduce the one-dimensional overlap as\n",
    "$$\n",
    "\\tag{12}\n",
    "\\tilde{S}_{\\mu \\nu}^{(x)} = \\int_{-\\infty}^\\infty \n",
    "\\left(x_A^{l_\\mu} e^{-\\alpha_\\mu x_A^2} \\right)\n",
    "\\left(x_B^{l_\\nu} e^{-\\alpha_\\nu x_B^2} \\right) dx,\n",
    "$$\n",
    "and use the same definition for the y and z components.\n",
    "\n",
    "By convention each primitive is be normalised such that the \"self-overlap\" is one, or in other words the diagonal elements of the overlap matrix\n",
    "will be all ones.\n",
    "$$\n",
    "\\tag{13}\n",
    "\\tilde{S}_{\\mu \\mu}  = \\int p_\\mu(\\br)^2 d\\br = 1.\n",
    "$$\n",
    "rearranging a bit:\n",
    "$$\n",
    "\\tag{14}\n",
    "N_\\mu = \\left( \\tilde{S}_{\\mu \\mu}^{(x)} \\tilde{S}_{\\mu \\mu}^{(y)} \\tilde{S}_{\\mu \\mu}^{(z)} \\right)^{-\\frac12}.\n",
    "$$\n",
    "The one-dimensional self-overlap integral is:\n",
    "$$\n",
    "\\tag{15}\n",
    "\\tilde{S}_{\\mu \\mu}^{(x)} = \\int_{-\\infty}^\\infty x^{2l} e^{-2 \\alpha_\\mu x^2} dx.\n",
    "$$\n",
    "We've made use of the translation invariance property of the integral over all $x$ when shifting by the constant $X_A$ in equation (15). \n",
    "\n",
    "These one dimensional integrals have a known analytic solution [see equation 42 of gaussian integral](https://mathworld.wolfram.com/GaussianIntegral.html), but we will lean on [SymPy](https://docs.sympy.org/latest/index.html) to help us derive a formula for normalising our primitive Gaussian functions."
   ]
  },
  {
   "cell_type": "code",
   "execution_count": 4,
   "metadata": {},
   "outputs": [],
   "source": [
    "import numpy as np\n",
    "import IPython\n",
    "from sympy import *\n",
    "\n",
    "init_printing(use_unicode=True)"
   ]
  },
  {
   "cell_type": "code",
   "execution_count": 5,
   "metadata": {},
   "outputs": [
    {
     "data": {
      "text/latex": [
       "$\\displaystyle \\tilde{S}_{\\mu \\mu} = \\int\\limits_{-\\infty}^{\\infty} t^{2 k} e^{- 2 \\alpha_{\\mu} t^{2}}\\, dt = \\left(\\frac{1}{2 \\alpha_{\\mu}}\\right)^{k + \\frac{1}{2}} \\Gamma\\left(k + \\frac{1}{2}\\right)$"
      ],
      "text/plain": [
       "<IPython.core.display.Math object>"
      ]
     },
     "execution_count": 5,
     "metadata": {},
     "output_type": "execute_result"
    }
   ],
   "source": [
    "a = Symbol(\"alpha_mu\", positive=True, real=True)\n",
    "k = Symbol(\"k\", integer=True, nonnegative=True)\n",
    "t, x, y, z = symbols(\"t x y z\", real=True)\n",
    "\n",
    "self_overlap1d = Integral(t**(2*k) * exp(-2 * a * t**2), (t, -oo, oo))\n",
    "output = r'\\tilde{S}_{\\mu \\mu} = '\n",
    "output += latex(self_overlap1d) \n",
    "output += ' = '\n",
    "output += latex(simplify(self_overlap1d.doit()))\n",
    "IPython.display.Math(output)"
   ]
  },
  {
   "cell_type": "code",
   "execution_count": 6,
   "metadata": {},
   "outputs": [
    {
     "data": {
      "text/latex": [
       "$\\displaystyle N_\\mu^2 = \\left(\\int\\limits_{-\\infty}^{\\infty} t^{2 l} e^{- 2 \\alpha_{\\mu} t^{2}}\\, dt\\right) \\left(\\int\\limits_{-\\infty}^{\\infty} t^{2 m} e^{- 2 \\alpha_{\\mu} t^{2}}\\, dt\\right) \\int\\limits_{-\\infty}^{\\infty} t^{2 n} e^{- 2 \\alpha_{\\mu} t^{2}}\\, dt \\quad = \\quad \\Large \\left(\\frac{1}{2 \\alpha_{\\mu}}\\right)^{L + \\frac{3}{2}} \\Gamma\\left(l + \\frac{1}{2}\\right) \\Gamma\\left(m + \\frac{1}{2}\\right) \\Gamma\\left(n + \\frac{1}{2}\\right)$"
      ],
      "text/plain": [
       "<IPython.core.display.Math object>"
      ]
     },
     "execution_count": 6,
     "metadata": {},
     "output_type": "execute_result"
    }
   ],
   "source": [
    "l,m,n,L = symbols(\"l m n L\", integer=True, nonnegative=True)\n",
    "sx = self_overlap1d.subs(k, l)\n",
    "sy = self_overlap1d.subs(k, m)\n",
    "sz = self_overlap1d.subs(k, n)\n",
    "self_overlap = sx * sy * sz\n",
    "\n",
    "self_overlap_expanded = simplify(self_overlap.doit()).subs(l+m+n, L)\n",
    "output = r'N_\\mu^2 = '\n",
    "output += latex(self_overlap) \n",
    "output += ' \\quad = \\quad \\Large '\n",
    "output += latex(self_overlap_expanded)\n",
    "IPython.display.Math(output)"
   ]
  },
  {
   "cell_type": "markdown",
   "metadata": {},
   "source": [
    "We can use SymPy to generate a python function that uses the [gamma](https://docs.scipy.org/doc/scipy/reference/generated/scipy.special.gamma.html) function from scipy"
   ]
  },
  {
   "cell_type": "code",
   "execution_count": 7,
   "metadata": {},
   "outputs": [
    {
     "name": "stdout",
     "output_type": "stream",
     "text": [
      "Help on function _lambdifygenerated:\n",
      "\n",
      "_lambdifygenerated(l, m, n, alpha_mu)\n",
      "    Created with lambdify. Signature:\n",
      "    \n",
      "    func(l, m, n, alpha_mu)\n",
      "    \n",
      "    Expression:\n",
      "    \n",
      "    (1/(2*alpha_mu))**(L + 3/2)*gamma(l + 1/2)*gamma(m + 1/2)*gamma(n + 1/2)\n",
      "    \n",
      "    Source code:\n",
      "    \n",
      "    def _lambdifygenerated(l, m, n, alpha_mu):\n",
      "        return ((1/2)/alpha_mu)**(L + 3/2)*gamma(l + 1/2)*gamma(m + 1/2)*gamma(n + 1/2)\n",
      "    \n",
      "    \n",
      "    Imported modules:\n",
      "\n"
     ]
    }
   ],
   "source": [
    "f = lambdify((l,m,n, a), self_overlap_expanded, modules=\"scipy\")\n",
    "help(f)"
   ]
  },
  {
   "cell_type": "markdown",
   "metadata": {},
   "source": [
    "This implementation isn't quite right since it doesn't correctly substitute that $L=l+m+n$ but this\n",
    "is close enough to allow us to return our attention back to the general overlap elements in equation (11).  To make progress we start by rewriting the product of two\n",
    "Gaussian functions as a single Gaussian:\n",
    "$$\n",
    "\\tag{16}\n",
    "e^{-\\alpha (x - a)^2} e^{-\\beta (x - b)^2} = \n",
    "e^{-\\alpha \\beta (a - b)^2 / \\gamma} e^{-\\gamma (x - c)^2}, \\\\\n",
    "\\gamma = \\alpha + \\beta \\\\\n",
    "c = \\frac{\\alpha a + \\beta b}{\\gamma}\n",
    "$$\n",
    "Next we rewrite the product of the leading polynomial terms in terms of the Gaussian product center $c$:\n",
    "$$\n",
    "\\tag{17}\n",
    "(x - a)^i (x - b)^j = (x - c + c - a)^i (x - c + c - b)^j = (x_c + c_a)^i (x_c + c_b)^j,\n",
    "$$\n",
    "where introduce\n",
    "$$\n",
    "\\tag{18}\n",
    "x_c = x - c\\\\\n",
    "c_a = c - a\\\\\n",
    "c_b = c - b.\n",
    "$$\n",
    "There isn't a universal term that covers the product of binomial expansions that we have arrived at in equation (17),\n",
    "and using the [binomial theorem](https://en.wikipedia.org/wiki/Binomial_theorem) we have:\n",
    "$$\n",
    "\\tag{19}\n",
    "(x_c + c_a)^i = \\sum_{k=0}^i \\binom{i}{k} x_c^{i-k} c_a^k \\\\ \n",
    "(x_c + c_b)^j = \\sum_{l=0}^j \\binom{j}{l} x_c^{j-l} c_b^l \n",
    "$$\n",
    "\n",
    "$$\n",
    "\\tag{20}\n",
    "(x_c + c_a)^i (x_c + c_b)^j = \\sum_{k=0}^i \\sum_{l=0}^j \\binom{i}{k} \\binom{j}{l}  x_c^{i-k} x_c^{j-l} c_a^k c_b^l \n",
    "$$\n",
    "we can use SymPy to help us take the product of these expansions for some representative values of $i$ and $j$"
   ]
  },
  {
   "cell_type": "code",
   "execution_count": 8,
   "metadata": {},
   "outputs": [
    {
     "data": {
      "image/png": "[encoded data removed]",
      "text/latex": [
       "$\\displaystyle \\left(c_{a} + x_{c}\\right)^{i} \\left(c_{b} + x_{c}\\right)^{j}$"
      ],
      "text/plain": [
       "          i            j\n",
       "(cₐ + x_c) ⋅(c_b + x_c) "
      ]
     },
     "execution_count": 8,
     "metadata": {},
     "output_type": "execute_result"
    }
   ],
   "source": [
    "x, a, b = symbols(\"x_c, c_a, c_b\", real=True)\n",
    "i, j = symbols(\"i, j\", nonnegative=True, integers=True)\n",
    "poly_terms = (x + a)**i * (x + b) **j\n",
    "poly_terms"
   ]
  },
  {
   "cell_type": "code",
   "execution_count": 9,
   "metadata": {},
   "outputs": [
    {
     "data": {
      "text/latex": [
       "\\begin{align*}(a + x)^0 (b + x)^0 &= 1\\\\(a + x)^0 (b + x)^1 &= c_{b} + x_{c}\\\\(a + x)^0 (b + x)^2 &= c_{b}^{2} + 2 c_{b} x_{c} + x_{c}^{2}\\\\(a + x)^1 (b + x)^0 &= c_{a} + x_{c}\\\\(a + x)^1 (b + x)^1 &= c_{a} c_{b} + x_{c} \\left(c_{a} + c_{b}\\right) + x_{c}^{2}\\\\(a + x)^1 (b + x)^2 &= c_{a} c_{b}^{2} + x_{c} \\left(2 c_{a} c_{b} + c_{b}^{2}\\right) + x_{c}^{2} \\left(c_{a} + 2 c_{b}\\right) + x_{c}^{3}\\\\(a + x)^2 (b + x)^0 &= c_{a}^{2} + 2 c_{a} x_{c} + x_{c}^{2}\\\\(a + x)^2 (b + x)^1 &= c_{a}^{2} c_{b} + x_{c} \\left(c_{a}^{2} + 2 c_{a} c_{b}\\right) + x_{c}^{2} \\cdot \\left(2 c_{a} + c_{b}\\right) + x_{c}^{3}\\\\(a + x)^2 (b + x)^2 &= c_{a}^{2} c_{b}^{2} + x_{c} \\left(2 c_{a}^{2} c_{b} + 2 c_{a} c_{b}^{2}\\right) + x_{c}^{2} \\left(c_{a}^{2} + 4 c_{a} c_{b} + c_{b}^{2}\\right) + x_{c}^{3} \\cdot \\left(2 c_{a} + 2 c_{b}\\right) + x_{c}^{4}\\\\\\end{align*}"
      ],
      "text/plain": [
       "<IPython.core.display.Latex object>"
      ]
     },
     "execution_count": 9,
     "metadata": {},
     "output_type": "execute_result"
    }
   ],
   "source": [
    "from itertools import product\n",
    "\n",
    "\n",
    "# output monomial terms with ascending orders x^n, n=0, 1, 2, ...\n",
    "output = r\"\\begin{align*}\"\n",
    "for ival, jval in product(range(3), range(3)):\n",
    "    p = simplify(expand(poly_terms.subs(i, ival).subs(j, jval)))\n",
    "    output += f\"(a + x)^{ival} (b + x)^{jval} &= \"\n",
    "    output += \" + \".join(\n",
    "        [latex(p.coeff(x, n) * x**n) for n in range(ival + jval + 1)]\n",
    "    )\n",
    "    output += r\"\\\\\"\n",
    "\n",
    "output += r\"\\end{align*}\"\n",
    "IPython.display.Latex(output)"
   ]
  },
  {
   "cell_type": "markdown",
   "metadata": {},
   "source": [
    "By using the symmetry properties of the binomial expansion we can rewrite the terms in the series of Equation (20) as:\n",
    "$$\n",
    "\\tag{21}\n",
    "\\binom{i}{k} \\binom{j}{l}  x_c^{i-k} x_c^{j-l} c_a^k c_b^l  = \\binom{i}{k} \\binom{j}{l} x_c^k x_c^l c_a^{i-k} c_b^{j-l}.\n",
    "$$\n",
    "Recognising that we want to collect terms of same power $x_c^s$ we introduce the constraint that $k+l=s$ allows us to\n",
    "write the terms as:\n",
    "$$\n",
    "\\tag{22}\n",
    "\\binom{i}{s-l} \\binom{j}{l} x_c^s c_a^{i-(s-l)} c_b^{j-l}.\n",
    "$$\n",
    "Replacing the summation variable $l=0, 1,\\cdots, j$ with $t$ and incorporating the constraint we arrive at:\n",
    "$$\n",
    "\\tag{23}\n",
    "(x_c + c_a)^i (x_c + c_b)^j = \n",
    "\\sum_{s = 0}^{i+j} x^s \n",
    "\\sum_{\\substack{t=0 \\\\ s - i \\le t \\le j}}^s \n",
    "\\binom{i}{s-t} \\binom{j}{t} c_a^{i-(s-t)} c_b^{j-t},\n",
    "$$\n",
    "Finally we can write this series as:\n",
    "$$\n",
    "\\tag{24}\n",
    "(x_c + c_a)^i (x_c + c_b)^j = \\sum_{s = 0}^{i+j} B(i, j, c_a, c_b, s) x^s,\n",
    "$$\n",
    "where we introduce $B(i, j, c_a, c_b, s)$ as the coefficient of $x^s$ in the expansion:\n",
    "$$\n",
    "\\tag{25}\n",
    "B(i, j, c_a, c_b, s) = \\sum_{\\substack{t=0 \\\\ s - i \\le t \\le j}}^s \\binom{i}{s-t} \\binom{j}{t} c_a^{i - (s - t)} c_b^{j-t}\n",
    "$$\n",
    "An evaluation strategy for this variable-sized loop is explored in an accompanying [notebook](./binom_factor_table.ipynb)."
   ]
  },
  {
   "cell_type": "markdown",
   "metadata": {},
   "source": []
  }
 ],
 "metadata": {
  "kernelspec": {
   "display_name": "hgei",
   "language": "python",
   "name": "python3"
  },
  "language_info": {
   "codemirror_mode": {
    "name": "ipython",
    "version": 3
   },
   "file_extension": ".py",
   "mimetype": "text/x-python",
   "name": "python",
   "nbconvert_exporter": "python",
   "pygments_lexer": "ipython3",
   "version": "3.8.10"
  },
  "orig_nbformat": 4
 },
 "nbformat": 4,
 "nbformat_minor": 2
}
