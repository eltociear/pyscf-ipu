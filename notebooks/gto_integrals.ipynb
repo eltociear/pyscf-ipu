{
 "cells": [
  {
   "cell_type": "markdown",
   "metadata": {},
   "source": [
    "*Copyright (c) 2023 Graphcore Ltd. All rights reserved.*\n",
    "\n",
    "$$\n",
    "\\renewcommand{\\br}{\\mathbf{r}}\n",
    "\\renewcommand{\\bA}{\\mathbf{A}}\n",
    "$$\n",
    "\n",
    "# Integrals over Gaussian Type Orbitals (GTO)\n",
    "\n",
    "Zooming straight past a number of details, a standard approach in density functional theory (DFT)\n",
    "is to expand the molecular orbitals $\\{\\psi_i (\\br) \\}$ in a finite basis set:\n",
    "$$\n",
    "\\tag{1}\n",
    "\\psi_i (\\br) = \\sum_i^N c_i \\phi_i (\\br).\n",
    "$$\n",
    "Typically the basis functions $\\{\\phi_i (\\br) \\}$ are taken as approximations of atomic orbitals and this is referred to as the linear combination of atomic orbitals (LCAO) method in the literature. There is some flexibility in how exactly this finite\n",
    "basis is defined.  Gaussian type orbitals (GTO) are perhaps\n",
    "one of the most popular choices and take the following general form \n",
    "$$\n",
    "\\tag{2}\n",
    "\\phi_i (\\br; \\bA, \\alpha, l, m, n) = N x_A^l y_A^m z_A^n e^{-\\alpha |\\br - \\bA|^2}.\n",
    "$$\n",
    "These functions are parameterised by:\n",
    "* $\\bA = (X_A, Y_A, Z_A)$ is the center of the Gaussian orbital that for our current treatment will be set by the atomic positions of the molecular structure we are simulating. We use the common shorthand of $x_A = x - X_A$ in the leading polynomial term\n",
    "* $\\alpha$ in the exponent determines the extent of the Gaussian orbital.\n",
    "* $(l, m, n)$ are the angular momentum quantum numbers that take on non-negative integer values.\n",
    "* normalising constant $N$ is a function of $\\alpha$ and $(l, m, n)$ and is derived later in this notebook.\n",
    "\n",
    "Another complication that is worth mentioning up front is that we typically encounter \n",
    "*contracted* Gaussian basis functions defined as:\n",
    "$$\n",
    "\\tag{3}\n",
    "\\phi_i (\\br; \\bA, l, m, n)  = \\sum_\\mu^L d_{\\mu i} p_\\mu(\\br; \\bA, \\alpha_\\mu, l, m, n)\n",
    "$$\n",
    "where we introduce the *primitive* Gaussian $p_\\mu$ that take the form:\n",
    "$$\n",
    "p_\\mu(\\br; \\bA, \\alpha_\\mu, l, m, n) = N x_A^l y_A^m z_A^n e^{-\\alpha_\\mu |\\br - \\bA|^2}.\n",
    "$$\n",
    "Gaussian basis functions of the form above have a few convenient properties that help\n",
    "make it easier to evaluate the matrices comprised of molecular elements.\n",
    "\n",
    "It can be useful for view DFT an optimisation problem where we search for the expansion coefficients that minimise the total energy.  There are additional constraints such as maintaining orthonormality between the molecular orbitals\n",
    "maintaining orthonormality in the molecular orbitals. \n",
    "\n",
    "For an overview and derivation we refer the reader to the following review article:\n",
    "\n",
    "> Lehtola, S., Blockhuys, F. and Van Alsenoy, C., 2020. An overview of self-consistent field calculations within finite basis sets. Molecules, 25(5), p.1218. [open access](https://doi.org/10.3390/molecules25051218)\n",
    "\n"
   ]
  },
  {
   "cell_type": "code",
   "execution_count": null,
   "metadata": {},
   "outputs": [],
   "source": [
    "import numpy as np\n",
    "import IPython\n",
    "from sympy import *\n",
    "\n",
    "init_printing(use_unicode=True)"
   ]
  },
  {
   "cell_type": "markdown",
   "metadata": {},
   "source": [
    "# Primitive GTO\n",
    "\n",
    "The unnormalized Cartesian GTO (Gaussian-type Orbital) primitive is defined as follows:\n",
    "\\begin{align*}\n",
    "\\hat p(\\mathbf{r}; l,m,n, \\alpha) =\n",
    " p(\\mathbf r; \\nu) = ~ &  x^l y^m z^n e^{-\\alpha |\\mathbf{r}|^2} \\\\\n",
    "& \\text{where} ~ \\mathbf{r} = (x, y, z) ~ \\text{and} ~ \\nu = (l, m, n, \\alpha)\n",
    "\\end{align*}\n",
    "\n",
    "From which the normalized primitive is\n",
    "\\begin{align*}\n",
    "p(\\mathbf{r}; \\nu) = & \\frac 1 {Z_\\nu} ~ \\hat p(\\mathbf{r}; \\nu)\n",
    "\\end{align*}\n",
    "where the normalizing constant $Z_\\nu$ is defined so that\n",
    "$$\n",
    "\\int_{-\\infty}^\\infty p(\\mathbf r; \\nu)^2 \\mathrm{d}\\mathbf r = 1,\n",
    "$$\n",
    "that is:\n",
    "\\begin{aligned}\n",
    "Z_\\nu^2  = \\int \\hat p(\\mathbf{r}; \\nu)^2 d\\mathbf{r}\n",
    "\\end{aligned}\n",
    "\n",
    "So, squaring all terms in the integrand:\n",
    "\\begin{aligned}\n",
    "Z_\\nu^2 & = \\iiint x^{2l} y^{2m} z^{2n} e^{-2\\alpha (x^2 + y^2 + z^2)} \\text{d}z \\text{d}y \\text{d}x\\\\\n",
    " & = \\iiint x^{2l} y^{2m} z^{2n} e^{-2\\alpha x^2}e^{-2\\alpha y^2}e^{-2\\alpha z^2} \\text{d}z \\text{d}y \\text{d}x\\\\\n",
    " & = \\iiint x^{2l} e^{-2\\alpha x^2} y^{2m} e^{-2\\alpha y^2} z^{2n} e^{-2\\alpha z^2} \\text{d}z \\text{d}y \\text{d}x\\\\\n",
    " & = \\int x^{2l} e^{-2\\alpha x^2} \\int y^{2m} e^{-2\\alpha y^2} \\int z^{2n} e^{-2\\alpha z^2} \\text{d}z \\text{d}y \\text{d}x\\\\\n",
    " & = \\int x^{2l} e^{-2\\alpha x^2} \\text{d}x \n",
    "     \\int y^{2m} e^{-2\\alpha y^2} \\text{d}y\n",
    "     \\int z^{2n} e^{-2\\alpha z^2} \\text{d}z\\\\\n",
    " & = ZZ(l,\\alpha) ZZ(m,\\alpha) ZZ(n,\\alpha)\n",
    "\\end{aligned}\n",
    "where \n",
    "$$\n",
    "ZZ(k, a) = \\int_{-\\infty}^{\\infty} t^{2k} e^{- 2 a t^2} dt\n",
    "$$\n"
   ]
  },
  {
   "cell_type": "code",
   "execution_count": null,
   "metadata": {},
   "outputs": [
    {
     "data": {
      "text/latex": [
       "$\\displaystyle ZZ(k,\\alpha) = \\int\\limits_{-\\infty}^{\\infty} t^{2 k} e^{- 2 \\alpha t^{2}}\\, dt = \\left(\\frac{1}{2 \\alpha}\\right)^{k + \\frac{1}{2}} \\Gamma\\left(k + \\frac{1}{2}\\right)$"
      ],
      "text/plain": [
       "<IPython.core.display.Math object>"
      ]
     },
     "execution_count": 42,
     "metadata": {},
     "output_type": "execute_result"
    }
   ],
   "source": [
    "a = Symbol(\"alpha\", positive=True, real=True)\n",
    "k = Symbol(\"k\", integer=True, nonnegative=True)\n",
    "t, x, y, z = symbols(\"t x y z\", real=True)\n",
    "\n",
    "ZZ = Integral(t**(2*k) * exp(-2 * a * t**2), (t, -oo, oo))\n",
    "IPython.display.Math(r'ZZ(k,\\alpha) = ' + latex(ZZ) + ' = ' + latex(simplify(ZZ.doit())))"
   ]
  },
  {
   "cell_type": "code",
   "execution_count": null,
   "metadata": {},
   "outputs": [
    {
     "data": {
      "text/latex": [
       "$\\displaystyle Z^2(l,m,n,\\alpha) = \\left(\\int\\limits_{-\\infty}^{\\infty} t^{2 l} e^{- 2 \\alpha t^{2}}\\, dt\\right) \\left(\\int\\limits_{-\\infty}^{\\infty} t^{2 m} e^{- 2 \\alpha t^{2}}\\, dt\\right) \\int\\limits_{-\\infty}^{\\infty} t^{2 n} e^{- 2 \\alpha t^{2}}\\, dt \\quad = \\quad \\Large \\left(\\frac{1}{2 \\alpha}\\right)^{L + \\frac{3}{2}} \\Gamma\\left(l + \\frac{1}{2}\\right) \\Gamma\\left(m + \\frac{1}{2}\\right) \\Gamma\\left(n + \\frac{1}{2}\\right)$"
      ],
      "text/plain": [
       "<IPython.core.display.Math object>"
      ]
     },
     "execution_count": 43,
     "metadata": {},
     "output_type": "execute_result"
    }
   ],
   "source": [
    "l,m,n,L = symbols(\"l m n L\", integer=True, nonnegative=True)\n",
    "Z2 = (ZZ.subs(k, l) * ZZ.subs(k, m) * ZZ.subs(k, n))\n",
    "Z2_expanded = simplify(Z2.doit()).subs(l+m+n, L)\n",
    "IPython.display.Math(r'Z^2(l,m,n,\\alpha) = ' + latex(Z2) + ' \\quad = \\quad \\Large ' + latex(Z2_expanded))"
   ]
  },
  {
   "cell_type": "code",
   "execution_count": null,
   "metadata": {},
   "outputs": [
    {
     "name": "stdout",
     "output_type": "stream",
     "text": [
      "Help on function _lambdifygenerated:\n",
      "\n",
      "_lambdifygenerated(l, m, n, alpha)\n",
      "    Created with lambdify. Signature:\n",
      "    \n",
      "    func(l, m, n, alpha)\n",
      "    \n",
      "    Expression:\n",
      "    \n",
      "    (1/(2*alpha))**(L + 3/2)*gamma(l + 1/2)*gamma(m + 1/2)*gamma(n + 1/2)\n",
      "    \n",
      "    Source code:\n",
      "    \n",
      "    def _lambdifygenerated(l, m, n, alpha):\n",
      "        return ((1/2)/alpha)**(L + 3/2)*gamma(l + 1/2)*gamma(m + 1/2)*gamma(n + 1/2)\n",
      "    \n",
      "    \n",
      "    Imported modules:\n",
      "\n"
     ]
    }
   ],
   "source": [
    "f = lambdify((l,m,n, a), Z2_expanded, modules=\"scipy\")\n",
    "help(f)"
   ]
  },
  {
   "cell_type": "code",
   "execution_count": null,
   "metadata": {},
   "outputs": [
    {
     "data": {
      "text/latex": [
       "$\\displaystyle \\Large{z_{000}= \\frac{\\sqrt[4]{2} \\pi^{\\frac{3}{4}}}{2 \\alpha^{\\frac{3}{4}}}}$"
      ],
      "text/plain": [
       "<IPython.core.display.Math object>"
      ]
     },
     "execution_count": 45,
     "metadata": {},
     "output_type": "execute_result"
    }
   ],
   "source": [
    "z000 = sqrt(Z2).subs(((l,0), (m,0), (n,0))).doit()\n",
    "IPython.display.Math(r'\\Large{' + latex(Symbol('z000')) + '= ' + latex(z000) + '}')"
   ]
  },
  {
   "cell_type": "code",
   "execution_count": null,
   "metadata": {},
   "outputs": [
    {
     "data": {
      "text/latex": [
       "\\begin{align*}~\\\\z_{000}= z_{000}\\\\z_{100}= \\frac{z_{000}}{2 \\sqrt{\\alpha}}\\\\z_{010}= \\frac{z_{000}}{2 \\sqrt{\\alpha}}\\\\z_{001}= \\frac{z_{000}}{2 \\sqrt{\\alpha}}\\\\z_{110}= \\frac{z_{000}}{4 \\alpha}\\\\z_{101}= \\frac{z_{000}}{4 \\alpha}\\\\z_{011}= \\frac{z_{000}}{4 \\alpha}\\\\z_{111}= \\frac{z_{000}}{8 \\alpha^{\\frac{3}{2}}}\\\\z_{200}= \\frac{\\sqrt{3} z_{000}}{4 \\alpha}\\\\z_{220}= \\frac{3 z_{000}}{16 \\alpha^{2}}\\end{align*}"
      ],
      "text/plain": [
       "<IPython.core.display.Latex object>"
      ]
     },
     "execution_count": 55,
     "metadata": {},
     "output_type": "execute_result"
    }
   ],
   "source": [
    "out= r'\\begin{align*}~'\n",
    "for vl,vm,vn in ((0,0,0),(1,0,0),(0,1,0),(0,0,1),(1,1,0),(1,0,1),(0,1,1),(1,1,1),(2,0,0),(2,2,0)):\n",
    "  zllm = sqrt(Z2).subs(((l,vl), (m,vm), (n,vn))).doit() / z000 * Symbol('z_000')\n",
    "  out += r'\\\\' + latex(Symbol(f'z{vl}{vm}{vn}')) + '= ' + latex(zllm)\n",
    "out += r'\\end{align*}'\n",
    "IPython.display.Latex(out)"
   ]
  },
  {
   "cell_type": "markdown",
   "metadata": {},
   "source": [
    "# From factorial"
   ]
  },
  {
   "cell_type": "code",
   "execution_count": null,
   "metadata": {},
   "outputs": [
    {
     "name": "stdout",
     "output_type": "stream",
     "text": [
      "1.0 1.0\n",
      "1.0 1.0\n",
      "3.0000000000000004 3.0\n",
      "15.000000000000004 15.0\n",
      "135135.00000000003 135135.0\n",
      "316234143225.00006 316234143225.0\n"
     ]
    }
   ],
   "source": [
    "import scipy\n",
    "p = Symbol('p', integer=True)\n",
    "\n",
    "# n!! = special.gamma(n/2+1)*2**((m+1)/2)/sqrt(pi)  n odd\n",
    "#     = 2**(n/2) * (n/2)!                           n even\n",
    "\n",
    "def fac2(n):\n",
    "  assert n % 2 == 1\n",
    "  return gamma(n/2+1)*2**((n+1)/2)/sqrt(pi) # n odd\n",
    "\n",
    "\n",
    "for n in (-1,1,3,5,13,23):\n",
    "  v1 = scipy.special.factorial2(n)\n",
    "  v2 = float(fac2(n).evalf())\n",
    "  print(v1, v2)\n",
    "  assert np.isclose(v1, v2)\n"
   ]
  },
  {
   "cell_type": "code",
   "execution_count": null,
   "metadata": {},
   "outputs": [
    {
     "data": {
      "image/png": "[encoded data removed]",
      "text/latex": [
       "$\\displaystyle \\left(\\frac{1}{2 \\alpha}\\right)^{l + m + n + 1.5} \\Gamma\\left(l + \\frac{1}{2}\\right) \\Gamma\\left(m + \\frac{1}{2}\\right) \\Gamma\\left(n + \\frac{1}{2}\\right)$"
      ],
      "text/plain": [
       "     l + m + n + 1.5                                 \n",
       "⎛ 1 ⎞                                                \n",
       "⎜───⎟               ⋅Γ(l + 1/2)⋅Γ(m + 1/2)⋅Γ(n + 1/2)\n",
       "⎝2⋅α⎠                                                "
      ]
     },
     "metadata": {},
     "output_type": "display_data"
    },
    {
     "data": {
      "image/png": "[encoded data removed]",
      "text/latex": [
       "$\\displaystyle \\left(\\frac{1}{2 \\alpha}\\right)^{L + \\frac{3}{2}} \\Gamma\\left(l + \\frac{1}{2}\\right) \\Gamma\\left(m + \\frac{1}{2}\\right) \\Gamma\\left(n + \\frac{1}{2}\\right)$"
      ],
      "text/plain": [
       "     L + 3/2                                 \n",
       "⎛ 1 ⎞                                        \n",
       "⎜───⎟       ⋅Γ(l + 1/2)⋅Γ(m + 1/2)⋅Γ(n + 1/2)\n",
       "⎝2⋅α⎠                                        "
      ]
     },
     "metadata": {},
     "output_type": "display_data"
    }
   ],
   "source": [
    "l,m,n = symbols(\"l m n\", integer=True, nonnegative=True)\n",
    "alpha = Symbol(\"alpha\", positive=True, real=True)\n",
    "\n",
    "def current_squared(l,m,n):\n",
    "  L = l+m+n\n",
    "  N = pi**1.5 / (2 * alpha) ** (L + 1.5)\n",
    "  N *= fac2(2*l-1) * fac2(2*m-1) * fac2(2*n-1) / 2**L\n",
    "  return N\n",
    "\n",
    "def gammabased(l,m,n):\n",
    "  def fac2pm1(p):\n",
    "    return fac2(2*p-1)\n",
    "  \n",
    "  L = l+m+n\n",
    "  N = pi**1.5 / (2 * alpha) ** (L + 1.5)\n",
    "  N *= fac2pm1(l) * fac2pm1(m) * fac2pm1(n) / 2**L\n",
    "  return N\n",
    "\n",
    "\n",
    "display(current_squared(l,m,n).simplify(), Z2_expanded)"
   ]
  },
  {
   "cell_type": "markdown",
   "metadata": {},
   "source": [
    "# Next steps"
   ]
  },
  {
   "cell_type": "markdown",
   "metadata": {},
   "source": [
    "And now, evaluate over the range $(0,1)$ rather than $(-\\infty,\\infty)$:"
   ]
  },
  {
   "cell_type": "code",
   "execution_count": null,
   "metadata": {},
   "outputs": [
    {
     "data": {
      "image/png": "[encoded data removed]",
      "text/latex": [
       "$\\displaystyle \\int\\limits_{0}^{1} x^{2 k} e^{- \\alpha x^{2}}\\, dx$"
      ],
      "text/plain": [
       "1               \n",
       "⌠               \n",
       "⎮           2   \n",
       "⎮  2⋅k  -α⋅x    \n",
       "⎮ x   ⋅ℯ      dx\n",
       "⌡               \n",
       "0               "
      ]
     },
     "metadata": {},
     "output_type": "display_data"
    },
    {
     "data": {
      "image/png": "[encoded data removed]",
      "text/latex": [
       "$\\displaystyle \\frac{\\alpha^{- k - \\frac{1}{2}} \\gamma\\left(k + \\frac{1}{2}, \\alpha\\right)}{2}$"
      ],
      "text/plain": [
       " -k - 1/2              \n",
       "α        ⋅γ(k + 1/2, α)\n",
       "───────────────────────\n",
       "           2           "
      ]
     },
     "metadata": {},
     "output_type": "display_data"
    }
   ],
   "source": [
    "ZZ01 = Integral(x ** (2 * k) * exp(-a * x**2), (x, 0, 1))\n",
    "ZZ01_expanded = simplify(ZZ01.doit())\n",
    "display(ZZ01, ZZ01_expanded)"
   ]
  }
 ],
 "metadata": {
  "kernelspec": {
   "display_name": "hgei",
   "language": "python",
   "name": "python3"
  },
  "language_info": {
   "codemirror_mode": {
    "name": "ipython",
    "version": 3
   },
   "file_extension": ".py",
   "mimetype": "text/x-python",
   "name": "python",
   "nbconvert_exporter": "python",
   "pygments_lexer": "ipython3",
   "version": "3.8.10"
  },
  "orig_nbformat": 4
 },
 "nbformat": 4,
 "nbformat_minor": 2
}
