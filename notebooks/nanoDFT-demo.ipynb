{
 "cells": [
  {
   "cell_type": "markdown",
   "id": "7cb2dc26",
   "metadata": {},
   "source": [
    "Copyright (c) 2023 Graphcore Ltd. All rights reserved.\n",
    "\n",
    "# NanoDFT notebook"
   ]
  },
  {
   "cell_type": "markdown",
   "id": "35622c3d",
   "metadata": {},
   "source": [
    "## Dependencies and configuration\n",
    "\n",
    "Install the JAX experimental for IPU (and addons)."
   ]
  },
  {
   "cell_type": "code",
   "execution_count": null,
   "id": "6dcb855a",
   "metadata": {},
   "outputs": [],
   "source": [
    "%pip install -q jax==0.3.16+ipu jaxlib==0.3.15+ipu.sdk320 -f https://graphcore-research.github.io/jax-experimental/wheels.html\n",
    "%pip install -q git+https://github.com/graphcore-research/jax-ipu-experimental-addons.git@main"
   ]
  },
  {
   "cell_type": "code",
   "execution_count": null,
   "id": "8bb2894d",
   "metadata": {},
   "outputs": [],
   "source": []
  },
  {
   "cell_type": "code",
   "execution_count": null,
   "id": "ca1b593b",
   "metadata": {},
   "outputs": [],
   "source": [
    "import jax\n",
    "\n",
    "# Check IPU hardware configuration\n",
    "assert jax.default_backend() == \"ipu\"\n",
    "print(f\"Platform={jax.default_backend()}\")\n",
    "print(f\"Number of devices={jax.device_count()}\")\n",
    "\n",
    "devices = jax.devices()\n",
    "print(\"\\n\".join([str(d) for d in devices]))"
   ]
  },
  {
   "cell_type": "code",
   "execution_count": null,
   "id": "5b60342b",
   "metadata": {},
   "outputs": [],
   "source": []
  }
 ],
 "metadata": {
  "kernelspec": {
   "display_name": "Python 3 (ipykernel)",
   "language": "python",
   "name": "python3"
  },
  "language_info": {
   "codemirror_mode": {
    "name": "ipython",
    "version": 3
   },
   "file_extension": ".py",
   "mimetype": "text/x-python",
   "name": "python",
   "nbconvert_exporter": "python",
   "pygments_lexer": "ipython3",
   "version": "3.8.10"
  }
 },
 "nbformat": 4,
 "nbformat_minor": 5
}
