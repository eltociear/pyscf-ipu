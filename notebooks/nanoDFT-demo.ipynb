{
 "cells": [
  {
   "cell_type": "markdown",
   "id": "7cb2dc26",
   "metadata": {},
   "source": [
    "Copyright (c) 2023 Graphcore Ltd. All rights reserved.\n",
    "\n",
    "# NanoDFT notebook"
   ]
  },
  {
   "cell_type": "markdown",
   "id": "35622c3d",
   "metadata": {},
   "source": [
    "## Dependencies and configuration\n",
    "\n",
    "Install the JAX experimental for IPU (and addons)."
   ]
  },
  {
   "cell_type": "code",
   "execution_count": null,
   "id": "6dcb855a",
   "metadata": {},
   "outputs": [],
   "source": [
    "%pip install -q jax==0.3.16+ipu jaxlib==0.3.15+ipu.sdk320 -f https://graphcore-research.github.io/jax-experimental/wheels.html\n",
    "%pip install -q git+https://github.com/graphcore-research/tessellate-ipu.git@main"
   ]
  },
  {
   "cell_type": "code",
   "execution_count": null,
   "id": "5e1016ea",
   "metadata": {},
   "outputs": [],
   "source": [
    "%pip install -q py3Dmol"
   ]
  },
  {
   "cell_type": "code",
   "execution_count": null,
   "id": "aba6a829",
   "metadata": {},
   "outputs": [],
   "source": [
    "import os\n",
    "\n",
    "os.environ['OMP_NUM_THREADS'] = \"16\"\n",
    "os.environ['TF_POPLAR_FLAGS'] = \"\"\"\n",
    "  --executable_cache_path=/tmp/ipu-ef-cache\n",
    "  --show_progress_bar=true\n",
    "\"\"\"\n",
    "\n",
    "import sys\n",
    "import os.path as osp\n",
    "import numpy as np\n",
    "import jax\n",
    "from tqdm import tqdm\n",
    "\n",
    "import seaborn as sns\n",
    "import matplotlib.pyplot as plt\n",
    "import py3Dmol\n",
    "\n",
    "sys.path.append(osp.abspath(osp.join(\"..\", \"nanoDFT\")))\n",
    "from nanoDFT import *"
   ]
  },
  {
   "cell_type": "code",
   "execution_count": null,
   "id": "ca1b593b",
   "metadata": {},
   "outputs": [],
   "source": [
    "# Check IPU hardware configuration\n",
    "assert jax.default_backend() == \"ipu\"\n",
    "print(f\"Platform={jax.default_backend()}\")\n",
    "print(f\"Number of devices={jax.device_count()}\")\n",
    "\n",
    "devices = jax.devices()\n",
    "print(\"\\n\".join([str(d) for d in devices]))"
   ]
  },
  {
   "cell_type": "markdown",
   "id": "6c7475f5",
   "metadata": {},
   "source": [
    "## Dissociation of Molecular Hydrogen"
   ]
  },
  {
   "cell_type": "markdown",
   "id": "8313857c",
   "metadata": {},
   "source": [
    "Density functional theory (DFT) is a widely used approximation for quantum-mechanics.\n",
    "We have created a simplified application `nanoDFT` to facilitate exploring different\n",
    "accuracy - compute tradeoffs in DFT simulations. \n",
    "\n",
    "Below we use `nanoDFT` to calculate the dissociation curve for the hydrogen molecule.\n",
    "`nanoDFT` allows us to simulate varying the distance between a pair of hydrogen atoms \n",
    "while keeping all other parameters the same.  The energy calculated by DFT will\n",
    "tend to:\n",
    "\n",
    "* Reach a minimum which corresponds to the experimentally measurable bond length\n",
    "* Increases very slowly as the interatomic distance is increased \n",
    "* Rapidly increases as the two hydrogen atoms are brought very close together.\n",
    "\n",
    "This nicely captures the simple intuition that atoms tend to attract one another\n",
    "to form chemical bonds."
   ]
  },
  {
   "cell_type": "code",
   "execution_count": null,
   "id": "5b60342b",
   "metadata": {},
   "outputs": [],
   "source": [
    "opts, _ = nanoDFT_options(backend=\"ipu\", float32=True)\n",
    "\n",
    "def h2_geom(r):\n",
    "    return [\n",
    "        [\"H\", (0.0, 0.0, 0.0)], \n",
    "        [\"H\", (  r, 0.0, 0.0)]\n",
    "    ]\n",
    "    \n",
    "\n",
    "def h2_energy(r: float) -> float:\n",
    "    mol = build_mol(h2_geom(r), opts.basis)\n",
    "    energies,_dbginfo = nanoDFT(mol, opts)\n",
    "    Etotal, E_core, E_J2, negE_K4, E_xc, E_nuc = energies[-1, :]\n",
    "    return Etotal\n",
    "\n",
    "\n",
    "r = np.linspace(0.2, 2.5, 16)\n",
    "energy = np.array([h2_energy(v) for v in tqdm(r)])"
   ]
  },
  {
   "cell_type": "code",
   "execution_count": null,
   "id": "3d9a786a",
   "metadata": {},
   "outputs": [],
   "source": [
    "sns.lineplot(x=r, y=energy)\n",
    "plt.xlabel(\"H-H distance (Angstrom)\")\n",
    "plt.ylabel(\"Energy (eV)\")\n",
    "plt.title(\"H2 Dissociation Curve\");"
   ]
  },
  {
   "cell_type": "markdown",
   "id": "a4e4e8fc",
   "metadata": {},
   "source": [
    "## Molecular Orbitals of Benzene"
   ]
  },
  {
   "cell_type": "code",
   "execution_count": null,
   "id": "efa3bc23",
   "metadata": {},
   "outputs": [],
   "source": [
    "def benzene_geom():\n",
    "    # Structure of benzene ring calculated with DFT using B3LYP functional\n",
    "    # and 6-31G* basis set <https://cccbdb.nist.gov/>\n",
    "    return [\n",
    "        [\"C\", ( 0.0000000,  1.3966140, 0.0000000)],\n",
    "        [\"C\", ( 1.2095030,  0.6983070, 0.0000000)],\n",
    "        [\"C\", ( 1.2095030, -0.6983070, 0.0000000)],\n",
    "        [\"C\", ( 0.0000000, -1.3966140, 0.0000000)],\n",
    "        [\"C\", (-1.2095030, -0.6983070, 0.0000000)],\n",
    "        [\"C\", (-1.2095030,  0.6983070, 0.0000000)],\n",
    "        [\"H\", ( 0.0000000,  2.4836130, 0.0000000)],\n",
    "        [\"H\", ( 2.1508720,  1.2418060, 0.0000000)],\n",
    "        [\"H\", ( 2.1508720, -1.2418060, 0.0000000)],\n",
    "        [\"H\", ( 0.0000000, -2.4836130, 0.0000000)],\n",
    "        [\"H\", (-2.1508720, -1.2418060, 0.0000000)],\n",
    "        [\"H\", (-2.1508720,  1.2418060, 0.0000000)],\n",
    "    ]\n",
    "\n",
    "opts, _ = nanoDFT_options(backend=\"ipu\", float32=True, basis=\"sto-3g\")\n",
    "mol = build_mol(benzene_geom(), opts.basis)\n",
    "energies, _dbginfo = nanoDFT(mol, opts)\n"
   ]
  },
  {
   "cell_type": "code",
   "execution_count": null,
   "id": "25acb1b7",
   "metadata": {},
   "outputs": [],
   "source": [
    "plt.plot(energies[:, 0])\n",
    "plt.xticks(np.arange(0, energies.shape[0], 2))\n",
    "plt.xlabel(\"SCF Iteration\")\n",
    "plt.ylabel(\"Total energy (eV)\")\n",
    "plt.title(\"Self consistent field energy convergence\");"
   ]
  },
  {
   "cell_type": "markdown",
   "id": "8060c09f",
   "metadata": {},
   "source": [
    "Use PySCF to evaluate the Gaussian atomic orbitals on a uniform grid.\n",
    "Multiplying by the molecular orbital coefficients calculated previously with `nanoDFT`\n",
    "gives use the molecular orbitals as a function of space."
   ]
  },
  {
   "cell_type": "code",
   "execution_count": null,
   "id": "fc79c21d",
   "metadata": {},
   "outputs": [],
   "source": [
    "L = 15.0\n",
    "n = 50\n",
    "axes = [np.linspace(-L, L, n) for _ in range(3)]\n",
    "grid = np.stack(np.meshgrid(*axes, indexing=\"ij\"), axis=-1)\n",
    "grid = grid.reshape(-1, 3)\n",
    "atomic_orbitals = mol.eval_gto('GTOval_sph', grid)\n",
    "\n",
    "C = _dbginfo[3]\n",
    "molecular_orbitals = atomic_orbitals @ C\n",
    "molecular_orbitals.shape"
   ]
  },
  {
   "cell_type": "markdown",
   "id": "85db5266",
   "metadata": {},
   "source": [
    "Below we define functions for visualising the molecular orbitals of benzene using the [py3Dmol](https://3dmol.org/) package"
   ]
  },
  {
   "cell_type": "code",
   "execution_count": null,
   "id": "63fbdbd2",
   "metadata": {},
   "outputs": [],
   "source": [
    "def cube_data(axes, value) -> str:\n",
    "    fmt = \"cube format\\n\\n\"\n",
    "    x, y, z = axes\n",
    "    nx, ny, nz = [ax.shape[0] for ax in axes]\n",
    "    fmt += \"0 \" + \" \".join([f\"{v:12.6f}\" for v in [x[0], y[0], z[0]]]) + \"\\n\"\n",
    "    fmt += f\"{nx} \" + \" \".join([f\"{v:12.6f}\" for v in [x[1] - x[0], 0.0, 0.0]]) + \"\\n\"\n",
    "    fmt += f\"{ny} \" + \" \".join([f\"{v:12.6f}\" for v in [0.0, y[1] - y[0], 0.0]]) + \"\\n\"\n",
    "    fmt += f\"{nz} \" + \" \".join([f\"{v:12.6f}\" for v in [0.0, 0.0, z[1] - z[0]]]) + \"\\n\"\n",
    "\n",
    "    line = \"\"\n",
    "    for i in range(len(value)):\n",
    "        line += f\"{value[i]:12.6f}\"\n",
    "\n",
    "        if i % 6 == 0:\n",
    "            fmt += line + \"\\n\"\n",
    "            line = \"\"\n",
    "\n",
    "    return fmt\n",
    "\n",
    "\n",
    "def build_transferfn(value) -> dict:\n",
    "    v = np.percentile(value, [99.9, 75])\n",
    "    a = [0.02, 0.0005]\n",
    "    return {\n",
    "        \"transferfn\": [\n",
    "            {\"color\": \"blue\", \"opacity\": a[0], \"value\": -v[0]},\n",
    "            {\"color\": \"blue\", \"opacity\": a[1], \"value\": -v[1]},\n",
    "            {\"color\": \"white\", \"opacity\": 0.0, \"value\": 0.0},\n",
    "            {\"color\": \"red\", \"opacity\": a[1], \"value\": v[1]},\n",
    "            {\"color\": \"red\", \"opacity\": a[0], \"value\": v[0]},\n",
    "        ]\n",
    "    }\n",
    "\n",
    "\n",
    "def plot_orbital(orbital, mol):\n",
    "    xyzfmt = f\"{len(mol.atom)}\\n\\n\" + mol.tostring()\n",
    "    v = py3Dmol.view(data=xyzfmt, style={\"stick\": {\"radius\": 0.06}, \"sphere\": {\"radius\": 0.2}})\n",
    "    v.addVolumetricData(cube_data(axes, orbital), \"cube\", build_transferfn(orbital))\n",
    "    return v"
   ]
  },
  {
   "cell_type": "markdown",
   "id": "8efd393a",
   "metadata": {},
   "source": [
    "Try changing the `mo_index` variable to select the different molecular orbitals benzene."
   ]
  },
  {
   "cell_type": "code",
   "execution_count": null,
   "id": "127815f0",
   "metadata": {},
   "outputs": [],
   "source": [
    "mo_index = 5\n",
    "\n",
    "orbital = molecular_orbitals[:, mo_index]\n",
    "mol_view = plot_orbital(orbital, mol)\n",
    "mol_view.spin()"
   ]
  }
 ],
 "metadata": {
  "kernelspec": {
   "display_name": "Python 3 (ipykernel)",
   "language": "python",
   "name": "python3"
  },
  "language_info": {
   "codemirror_mode": {
    "name": "ipython",
    "version": 3
   },
   "file_extension": ".py",
   "mimetype": "text/x-python",
   "name": "python",
   "nbconvert_exporter": "python",
   "pygments_lexer": "ipython3",
   "version": "3.8.10"
  }
 },
 "nbformat": 4,
 "nbformat_minor": 5
}
